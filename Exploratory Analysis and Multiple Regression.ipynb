{
 "cells": [
  {
   "cell_type": "markdown",
   "metadata": {},
   "source": [
    "# Data Exploration with Linear Data Modeling\n",
    "\n",
    "## We will be ending with a Multiple Regression in this illustration\n",
    "Let us load some essential libraries which contain the basic python operations"
   ]
  },
  {
   "cell_type": "markdown",
   "metadata": {},
   "source": [
    "Import the libraries"
   ]
  },
  {
   "cell_type": "code",
   "execution_count": 22,
   "metadata": {},
   "outputs": [],
   "source": [
    "import numpy as np \n",
    "import pandas as pd\n",
    "import matplotlib.pyplot as plt\n",
    "plt.rc(\"font\", size=13)\n",
    "import seaborn as sns\n",
    "sns.set(style=\"white\")\n",
    "sns.set(style=\"whitegrid\", color_codes=True)"
   ]
  },
  {
   "cell_type": "markdown",
   "metadata": {},
   "source": [
    "Set a white background style for seaborn plots, and any grid lines, for now, be white.\n",
    "Let us make any plots and graphs we make show up right below the cell (inline)"
   ]
  },
  {
   "cell_type": "code",
   "execution_count": 2,
   "metadata": {},
   "outputs": [],
   "source": [
    "%matplotlib inline"
   ]
  },
  {
   "cell_type": "markdown",
   "metadata": {},
   "source": [
    "### Load project dataset (in the comma separated value file) into Pandas"
   ]
  },
  {
   "cell_type": "markdown",
   "metadata": {},
   "source": [
    "Pandas is a software library written for Python for data manipulation and analysis. In particular, it offers data structures and operations for manipulating data tables"
   ]
  },
  {
   "cell_type": "code",
   "execution_count": 3,
   "metadata": {},
   "outputs": [],
   "source": [
    "df_projects = pd.read_csv(\"proj_mgmt_data.csv\")"
   ]
  },
  {
   "cell_type": "markdown",
   "metadata": {},
   "source": [
    "For some aesthetic reason, you think some variable titles being capitalized and others not bothers you... :-) Let us rename some offending column titles..."
   ]
  },
  {
   "cell_type": "code",
   "execution_count": 4,
   "metadata": {
    "scrolled": true
   },
   "outputs": [],
   "source": [
    "df_projects.rename(columns={'REGION': 'Region','PROJID':'Project_Id','ProjCat':'Proj_Cat','SCHEDEV_Days':'Schedule_Overrun','SCOPCHNG':'Scope_Change','AVGTMSIZ':'Team_Size'}, inplace=True)"
   ]
  },
  {
   "cell_type": "code",
   "execution_count": 5,
   "metadata": {},
   "outputs": [],
   "source": [
    "df_projects.rename(columns={'CUSTHRS': 'Customer_Hours','PRODTVTY':'Productivity','TIMTOMKT':'Time_to_Market','MiniViable':'Minimum_Viable_Product','Customer_onpremise':'Customer_on_Premise'}, inplace=True)"
   ]
  },
  {
   "cell_type": "code",
   "execution_count": 6,
   "metadata": {
    "scrolled": false
   },
   "outputs": [
    {
     "data": {
      "text/plain": [
       "(384, 16)"
      ]
     },
     "execution_count": 6,
     "metadata": {},
     "output_type": "execute_result"
    }
   ],
   "source": [
    "df_projects.shape"
   ]
  },
  {
   "cell_type": "code",
   "execution_count": 7,
   "metadata": {
    "scrolled": true
   },
   "outputs": [
    {
     "data": {
      "text/html": [
       "<div>\n",
       "<style scoped>\n",
       "    .dataframe tbody tr th:only-of-type {\n",
       "        vertical-align: middle;\n",
       "    }\n",
       "\n",
       "    .dataframe tbody tr th {\n",
       "        vertical-align: top;\n",
       "    }\n",
       "\n",
       "    .dataframe thead th {\n",
       "        text-align: right;\n",
       "    }\n",
       "</style>\n",
       "<table border=\"1\" class=\"dataframe\">\n",
       "  <thead>\n",
       "    <tr style=\"text-align: right;\">\n",
       "      <th></th>\n",
       "      <th>Project_Id</th>\n",
       "      <th>Schedule_Overrun</th>\n",
       "      <th>NormProjSize</th>\n",
       "      <th>Scope_Change</th>\n",
       "      <th>Team_Size</th>\n",
       "      <th>Developer_Hours</th>\n",
       "      <th>Customer_Hours</th>\n",
       "      <th>Post_release_defects</th>\n",
       "      <th>Productivity</th>\n",
       "      <th>Time_to_Market</th>\n",
       "      <th>Minimum_Viable_Product</th>\n",
       "      <th>Saiv</th>\n",
       "      <th>Target_prototyping</th>\n",
       "      <th>Customer_on_Premise</th>\n",
       "    </tr>\n",
       "  </thead>\n",
       "  <tbody>\n",
       "    <tr>\n",
       "      <th>count</th>\n",
       "      <td>384.000000</td>\n",
       "      <td>384.000000</td>\n",
       "      <td>384.000000</td>\n",
       "      <td>384.000000</td>\n",
       "      <td>384.000000</td>\n",
       "      <td>384.000000</td>\n",
       "      <td>384.000000</td>\n",
       "      <td>384.000000</td>\n",
       "      <td>384.000000</td>\n",
       "      <td>384.000000</td>\n",
       "      <td>384.000000</td>\n",
       "      <td>384.000000</td>\n",
       "      <td>384.000000</td>\n",
       "      <td>384.000000</td>\n",
       "    </tr>\n",
       "    <tr>\n",
       "      <th>mean</th>\n",
       "      <td>193.666667</td>\n",
       "      <td>9.357187</td>\n",
       "      <td>570.544271</td>\n",
       "      <td>36.861979</td>\n",
       "      <td>6.929687</td>\n",
       "      <td>4099.231771</td>\n",
       "      <td>353.424479</td>\n",
       "      <td>24.552083</td>\n",
       "      <td>34.885000</td>\n",
       "      <td>4.320182</td>\n",
       "      <td>1.158854</td>\n",
       "      <td>1.505208</td>\n",
       "      <td>1.174479</td>\n",
       "      <td>1.473958</td>\n",
       "    </tr>\n",
       "    <tr>\n",
       "      <th>std</th>\n",
       "      <td>111.793512</td>\n",
       "      <td>33.888322</td>\n",
       "      <td>620.939327</td>\n",
       "      <td>101.676183</td>\n",
       "      <td>4.656331</td>\n",
       "      <td>4824.430799</td>\n",
       "      <td>585.568929</td>\n",
       "      <td>54.426201</td>\n",
       "      <td>30.675352</td>\n",
       "      <td>2.582395</td>\n",
       "      <td>0.793758</td>\n",
       "      <td>0.666211</td>\n",
       "      <td>0.803566</td>\n",
       "      <td>0.677385</td>\n",
       "    </tr>\n",
       "    <tr>\n",
       "      <th>min</th>\n",
       "      <td>1.000000</td>\n",
       "      <td>-61.450000</td>\n",
       "      <td>3.000000</td>\n",
       "      <td>-82.000000</td>\n",
       "      <td>1.000000</td>\n",
       "      <td>181.000000</td>\n",
       "      <td>0.000000</td>\n",
       "      <td>0.000000</td>\n",
       "      <td>0.040000</td>\n",
       "      <td>0.370000</td>\n",
       "      <td>0.000000</td>\n",
       "      <td>0.000000</td>\n",
       "      <td>0.000000</td>\n",
       "      <td>0.000000</td>\n",
       "    </tr>\n",
       "    <tr>\n",
       "      <th>25%</th>\n",
       "      <td>96.750000</td>\n",
       "      <td>0.000000</td>\n",
       "      <td>207.750000</td>\n",
       "      <td>-7.000000</td>\n",
       "      <td>4.775000</td>\n",
       "      <td>1616.750000</td>\n",
       "      <td>8.750000</td>\n",
       "      <td>0.000000</td>\n",
       "      <td>16.230000</td>\n",
       "      <td>2.622500</td>\n",
       "      <td>1.000000</td>\n",
       "      <td>1.000000</td>\n",
       "      <td>0.750000</td>\n",
       "      <td>1.000000</td>\n",
       "    </tr>\n",
       "    <tr>\n",
       "      <th>50%</th>\n",
       "      <td>193.500000</td>\n",
       "      <td>0.000000</td>\n",
       "      <td>381.500000</td>\n",
       "      <td>7.500000</td>\n",
       "      <td>6.000000</td>\n",
       "      <td>2866.500000</td>\n",
       "      <td>136.000000</td>\n",
       "      <td>5.000000</td>\n",
       "      <td>27.365000</td>\n",
       "      <td>3.900000</td>\n",
       "      <td>1.000000</td>\n",
       "      <td>2.000000</td>\n",
       "      <td>1.000000</td>\n",
       "      <td>2.000000</td>\n",
       "    </tr>\n",
       "    <tr>\n",
       "      <th>75%</th>\n",
       "      <td>290.250000</td>\n",
       "      <td>7.955000</td>\n",
       "      <td>729.250000</td>\n",
       "      <td>53.000000</td>\n",
       "      <td>8.000000</td>\n",
       "      <td>4868.750000</td>\n",
       "      <td>469.000000</td>\n",
       "      <td>21.000000</td>\n",
       "      <td>46.455000</td>\n",
       "      <td>5.300000</td>\n",
       "      <td>2.000000</td>\n",
       "      <td>2.000000</td>\n",
       "      <td>2.000000</td>\n",
       "      <td>2.000000</td>\n",
       "    </tr>\n",
       "    <tr>\n",
       "      <th>max</th>\n",
       "      <td>386.000000</td>\n",
       "      <td>398.320000</td>\n",
       "      <td>4571.000000</td>\n",
       "      <td>1220.000000</td>\n",
       "      <td>45.000000</td>\n",
       "      <td>47892.000000</td>\n",
       "      <td>4800.000000</td>\n",
       "      <td>415.000000</td>\n",
       "      <td>332.310000</td>\n",
       "      <td>21.030000</td>\n",
       "      <td>2.000000</td>\n",
       "      <td>2.000000</td>\n",
       "      <td>2.000000</td>\n",
       "      <td>2.000000</td>\n",
       "    </tr>\n",
       "  </tbody>\n",
       "</table>\n",
       "</div>"
      ],
      "text/plain": [
       "       Project_Id  Schedule_Overrun  NormProjSize  Scope_Change   Team_Size  \\\n",
       "count  384.000000        384.000000    384.000000    384.000000  384.000000   \n",
       "mean   193.666667          9.357187    570.544271     36.861979    6.929687   \n",
       "std    111.793512         33.888322    620.939327    101.676183    4.656331   \n",
       "min      1.000000        -61.450000      3.000000    -82.000000    1.000000   \n",
       "25%     96.750000          0.000000    207.750000     -7.000000    4.775000   \n",
       "50%    193.500000          0.000000    381.500000      7.500000    6.000000   \n",
       "75%    290.250000          7.955000    729.250000     53.000000    8.000000   \n",
       "max    386.000000        398.320000   4571.000000   1220.000000   45.000000   \n",
       "\n",
       "       Developer_Hours  Customer_Hours  Post_release_defects  Productivity  \\\n",
       "count       384.000000      384.000000            384.000000    384.000000   \n",
       "mean       4099.231771      353.424479             24.552083     34.885000   \n",
       "std        4824.430799      585.568929             54.426201     30.675352   \n",
       "min         181.000000        0.000000              0.000000      0.040000   \n",
       "25%        1616.750000        8.750000              0.000000     16.230000   \n",
       "50%        2866.500000      136.000000              5.000000     27.365000   \n",
       "75%        4868.750000      469.000000             21.000000     46.455000   \n",
       "max       47892.000000     4800.000000            415.000000    332.310000   \n",
       "\n",
       "       Time_to_Market  Minimum_Viable_Product        Saiv  Target_prototyping  \\\n",
       "count      384.000000              384.000000  384.000000          384.000000   \n",
       "mean         4.320182                1.158854    1.505208            1.174479   \n",
       "std          2.582395                0.793758    0.666211            0.803566   \n",
       "min          0.370000                0.000000    0.000000            0.000000   \n",
       "25%          2.622500                1.000000    1.000000            0.750000   \n",
       "50%          3.900000                1.000000    2.000000            1.000000   \n",
       "75%          5.300000                2.000000    2.000000            2.000000   \n",
       "max         21.030000                2.000000    2.000000            2.000000   \n",
       "\n",
       "       Customer_on_Premise  \n",
       "count           384.000000  \n",
       "mean              1.473958  \n",
       "std               0.677385  \n",
       "min               0.000000  \n",
       "25%               1.000000  \n",
       "50%               2.000000  \n",
       "75%               2.000000  \n",
       "max               2.000000  "
      ]
     },
     "execution_count": 7,
     "metadata": {},
     "output_type": "execute_result"
    }
   ],
   "source": [
    "df_projects.describe()"
   ]
  },
  {
   "cell_type": "code",
   "execution_count": 8,
   "metadata": {},
   "outputs": [
    {
     "data": {
      "text/html": [
       "<div>\n",
       "<style scoped>\n",
       "    .dataframe tbody tr th:only-of-type {\n",
       "        vertical-align: middle;\n",
       "    }\n",
       "\n",
       "    .dataframe tbody tr th {\n",
       "        vertical-align: top;\n",
       "    }\n",
       "\n",
       "    .dataframe thead th {\n",
       "        text-align: right;\n",
       "    }\n",
       "</style>\n",
       "<table border=\"1\" class=\"dataframe\">\n",
       "  <thead>\n",
       "    <tr style=\"text-align: right;\">\n",
       "      <th></th>\n",
       "      <th>Region</th>\n",
       "      <th>Project_Id</th>\n",
       "      <th>Proj_Cat</th>\n",
       "      <th>Schedule_Overrun</th>\n",
       "      <th>NormProjSize</th>\n",
       "      <th>Scope_Change</th>\n",
       "      <th>Team_Size</th>\n",
       "      <th>Developer_Hours</th>\n",
       "      <th>Customer_Hours</th>\n",
       "      <th>Post_release_defects</th>\n",
       "      <th>Productivity</th>\n",
       "      <th>Time_to_Market</th>\n",
       "      <th>Minimum_Viable_Product</th>\n",
       "      <th>Saiv</th>\n",
       "      <th>Target_prototyping</th>\n",
       "      <th>Customer_on_Premise</th>\n",
       "    </tr>\n",
       "  </thead>\n",
       "  <tbody>\n",
       "    <tr>\n",
       "      <th>379</th>\n",
       "      <td>North America</td>\n",
       "      <td>382</td>\n",
       "      <td>Dev</td>\n",
       "      <td>11.48</td>\n",
       "      <td>741</td>\n",
       "      <td>-9</td>\n",
       "      <td>7.0</td>\n",
       "      <td>2213</td>\n",
       "      <td>178</td>\n",
       "      <td>24</td>\n",
       "      <td>58.39</td>\n",
       "      <td>2.27</td>\n",
       "      <td>1</td>\n",
       "      <td>1</td>\n",
       "      <td>2</td>\n",
       "      <td>2</td>\n",
       "    </tr>\n",
       "    <tr>\n",
       "      <th>380</th>\n",
       "      <td>North America</td>\n",
       "      <td>383</td>\n",
       "      <td>Dev</td>\n",
       "      <td>-9.09</td>\n",
       "      <td>68</td>\n",
       "      <td>4</td>\n",
       "      <td>4.0</td>\n",
       "      <td>2346</td>\n",
       "      <td>700</td>\n",
       "      <td>2</td>\n",
       "      <td>5.55</td>\n",
       "      <td>4.67</td>\n",
       "      <td>1</td>\n",
       "      <td>1</td>\n",
       "      <td>0</td>\n",
       "      <td>2</td>\n",
       "    </tr>\n",
       "    <tr>\n",
       "      <th>381</th>\n",
       "      <td>North America</td>\n",
       "      <td>384</td>\n",
       "      <td>Dev</td>\n",
       "      <td>-49.18</td>\n",
       "      <td>722</td>\n",
       "      <td>0</td>\n",
       "      <td>7.5</td>\n",
       "      <td>819</td>\n",
       "      <td>3</td>\n",
       "      <td>1</td>\n",
       "      <td>139.78</td>\n",
       "      <td>1.03</td>\n",
       "      <td>2</td>\n",
       "      <td>2</td>\n",
       "      <td>2</td>\n",
       "      <td>0</td>\n",
       "    </tr>\n",
       "    <tr>\n",
       "      <th>382</th>\n",
       "      <td>North America</td>\n",
       "      <td>385</td>\n",
       "      <td>Dev</td>\n",
       "      <td>34.43</td>\n",
       "      <td>590</td>\n",
       "      <td>0</td>\n",
       "      <td>4.1</td>\n",
       "      <td>1434</td>\n",
       "      <td>120</td>\n",
       "      <td>0</td>\n",
       "      <td>73.87</td>\n",
       "      <td>2.73</td>\n",
       "      <td>1</td>\n",
       "      <td>2</td>\n",
       "      <td>2</td>\n",
       "      <td>2</td>\n",
       "    </tr>\n",
       "    <tr>\n",
       "      <th>383</th>\n",
       "      <td>North America</td>\n",
       "      <td>386</td>\n",
       "      <td>Dev</td>\n",
       "      <td>-11.48</td>\n",
       "      <td>841</td>\n",
       "      <td>0</td>\n",
       "      <td>7.5</td>\n",
       "      <td>1700</td>\n",
       "      <td>320</td>\n",
       "      <td>0</td>\n",
       "      <td>91.51</td>\n",
       "      <td>1.80</td>\n",
       "      <td>2</td>\n",
       "      <td>2</td>\n",
       "      <td>2</td>\n",
       "      <td>1</td>\n",
       "    </tr>\n",
       "  </tbody>\n",
       "</table>\n",
       "</div>"
      ],
      "text/plain": [
       "            Region  Project_Id Proj_Cat  Schedule_Overrun  NormProjSize  \\\n",
       "379  North America         382      Dev             11.48           741   \n",
       "380  North America         383      Dev             -9.09            68   \n",
       "381  North America         384      Dev            -49.18           722   \n",
       "382  North America         385      Dev             34.43           590   \n",
       "383  North America         386      Dev            -11.48           841   \n",
       "\n",
       "     Scope_Change  Team_Size  Developer_Hours  Customer_Hours  \\\n",
       "379            -9        7.0             2213             178   \n",
       "380             4        4.0             2346             700   \n",
       "381             0        7.5              819               3   \n",
       "382             0        4.1             1434             120   \n",
       "383             0        7.5             1700             320   \n",
       "\n",
       "     Post_release_defects  Productivity  Time_to_Market  \\\n",
       "379                    24         58.39            2.27   \n",
       "380                     2          5.55            4.67   \n",
       "381                     1        139.78            1.03   \n",
       "382                     0         73.87            2.73   \n",
       "383                     0         91.51            1.80   \n",
       "\n",
       "     Minimum_Viable_Product  Saiv  Target_prototyping  Customer_on_Premise  \n",
       "379                       1     1                   2                    2  \n",
       "380                       1     1                   0                    2  \n",
       "381                       2     2                   2                    0  \n",
       "382                       1     2                   2                    2  \n",
       "383                       2     2                   2                    1  "
      ]
     },
     "execution_count": 8,
     "metadata": {},
     "output_type": "execute_result"
    }
   ],
   "source": [
    "df_projects.tail()"
   ]
  },
  {
   "cell_type": "code",
   "execution_count": 9,
   "metadata": {},
   "outputs": [
    {
     "data": {
      "text/html": [
       "<div>\n",
       "<style scoped>\n",
       "    .dataframe tbody tr th:only-of-type {\n",
       "        vertical-align: middle;\n",
       "    }\n",
       "\n",
       "    .dataframe tbody tr th {\n",
       "        vertical-align: top;\n",
       "    }\n",
       "\n",
       "    .dataframe thead th {\n",
       "        text-align: right;\n",
       "    }\n",
       "</style>\n",
       "<table border=\"1\" class=\"dataframe\">\n",
       "  <thead>\n",
       "    <tr style=\"text-align: right;\">\n",
       "      <th></th>\n",
       "      <th>Project_Id</th>\n",
       "      <th>Schedule_Overrun</th>\n",
       "      <th>NormProjSize</th>\n",
       "      <th>Scope_Change</th>\n",
       "      <th>Team_Size</th>\n",
       "      <th>Developer_Hours</th>\n",
       "      <th>Customer_Hours</th>\n",
       "      <th>Post_release_defects</th>\n",
       "      <th>Productivity</th>\n",
       "      <th>Time_to_Market</th>\n",
       "      <th>Minimum_Viable_Product</th>\n",
       "      <th>Saiv</th>\n",
       "      <th>Target_prototyping</th>\n",
       "      <th>Customer_on_Premise</th>\n",
       "    </tr>\n",
       "  </thead>\n",
       "  <tbody>\n",
       "    <tr>\n",
       "      <th>Project_Id</th>\n",
       "      <td>12497.789382</td>\n",
       "      <td>-314.152559</td>\n",
       "      <td>-6.968186e+03</td>\n",
       "      <td>821.008703</td>\n",
       "      <td>-13.088773</td>\n",
       "      <td>-4.401349e+04</td>\n",
       "      <td>-7.438072e+03</td>\n",
       "      <td>-468.841601</td>\n",
       "      <td>-195.278695</td>\n",
       "      <td>-3.736623</td>\n",
       "      <td>-11.845083</td>\n",
       "      <td>-1.909487</td>\n",
       "      <td>-8.234117</td>\n",
       "      <td>-3.149695</td>\n",
       "    </tr>\n",
       "    <tr>\n",
       "      <th>Schedule_Overrun</th>\n",
       "      <td>-314.152559</td>\n",
       "      <td>1148.418349</td>\n",
       "      <td>2.827847e+03</td>\n",
       "      <td>343.615668</td>\n",
       "      <td>6.076000</td>\n",
       "      <td>3.767588e+04</td>\n",
       "      <td>5.285439e+03</td>\n",
       "      <td>218.738711</td>\n",
       "      <td>-104.616062</td>\n",
       "      <td>32.352307</td>\n",
       "      <td>-0.397098</td>\n",
       "      <td>-0.244189</td>\n",
       "      <td>0.820753</td>\n",
       "      <td>0.091102</td>\n",
       "    </tr>\n",
       "    <tr>\n",
       "      <th>NormProjSize</th>\n",
       "      <td>-6968.186249</td>\n",
       "      <td>2827.847305</td>\n",
       "      <td>3.855656e+05</td>\n",
       "      <td>25562.325970</td>\n",
       "      <td>1147.540980</td>\n",
       "      <td>1.594293e+06</td>\n",
       "      <td>1.534627e+05</td>\n",
       "      <td>12726.547297</td>\n",
       "      <td>8325.784060</td>\n",
       "      <td>734.697786</td>\n",
       "      <td>56.205743</td>\n",
       "      <td>16.189064</td>\n",
       "      <td>104.327765</td>\n",
       "      <td>60.809250</td>\n",
       "    </tr>\n",
       "    <tr>\n",
       "      <th>Scope_Change</th>\n",
       "      <td>821.008703</td>\n",
       "      <td>343.615668</td>\n",
       "      <td>2.556233e+04</td>\n",
       "      <td>10338.046175</td>\n",
       "      <td>41.720557</td>\n",
       "      <td>8.007549e+04</td>\n",
       "      <td>6.083701e+03</td>\n",
       "      <td>1065.115562</td>\n",
       "      <td>943.698890</td>\n",
       "      <td>54.658746</td>\n",
       "      <td>-5.620315</td>\n",
       "      <td>2.312731</td>\n",
       "      <td>5.199079</td>\n",
       "      <td>4.065587</td>\n",
       "    </tr>\n",
       "    <tr>\n",
       "      <th>Team_Size</th>\n",
       "      <td>-13.088773</td>\n",
       "      <td>6.076000</td>\n",
       "      <td>1.147541e+03</td>\n",
       "      <td>41.720557</td>\n",
       "      <td>21.681414</td>\n",
       "      <td>1.748368e+04</td>\n",
       "      <td>9.525560e+02</td>\n",
       "      <td>104.852758</td>\n",
       "      <td>-25.272253</td>\n",
       "      <td>4.505624</td>\n",
       "      <td>-0.257992</td>\n",
       "      <td>-0.207727</td>\n",
       "      <td>0.177835</td>\n",
       "      <td>0.271271</td>\n",
       "    </tr>\n",
       "    <tr>\n",
       "      <th>Developer_Hours</th>\n",
       "      <td>-44013.486510</td>\n",
       "      <td>37675.883500</td>\n",
       "      <td>1.594293e+06</td>\n",
       "      <td>80075.494214</td>\n",
       "      <td>17483.684224</td>\n",
       "      <td>2.327513e+07</td>\n",
       "      <td>1.470689e+06</td>\n",
       "      <td>109368.028367</td>\n",
       "      <td>-32979.021893</td>\n",
       "      <td>8173.457608</td>\n",
       "      <td>-378.151796</td>\n",
       "      <td>-414.535153</td>\n",
       "      <td>-1.904775</td>\n",
       "      <td>372.795869</td>\n",
       "    </tr>\n",
       "    <tr>\n",
       "      <th>Customer_Hours</th>\n",
       "      <td>-7438.072237</td>\n",
       "      <td>5285.438534</td>\n",
       "      <td>1.534627e+05</td>\n",
       "      <td>6083.701038</td>\n",
       "      <td>952.556034</td>\n",
       "      <td>1.470689e+06</td>\n",
       "      <td>3.428910e+05</td>\n",
       "      <td>4860.258513</td>\n",
       "      <td>-1037.521292</td>\n",
       "      <td>574.716137</td>\n",
       "      <td>20.384091</td>\n",
       "      <td>6.244520</td>\n",
       "      <td>44.599373</td>\n",
       "      <td>101.116827</td>\n",
       "    </tr>\n",
       "    <tr>\n",
       "      <th>Post_release_defects</th>\n",
       "      <td>-468.841601</td>\n",
       "      <td>218.738711</td>\n",
       "      <td>1.272655e+04</td>\n",
       "      <td>1065.115562</td>\n",
       "      <td>104.852758</td>\n",
       "      <td>1.093680e+05</td>\n",
       "      <td>4.860259e+03</td>\n",
       "      <td>2962.211379</td>\n",
       "      <td>87.409164</td>\n",
       "      <td>38.894024</td>\n",
       "      <td>1.319381</td>\n",
       "      <td>1.660302</td>\n",
       "      <td>3.832925</td>\n",
       "      <td>1.398227</td>\n",
       "    </tr>\n",
       "    <tr>\n",
       "      <th>Productivity</th>\n",
       "      <td>-195.278695</td>\n",
       "      <td>-104.616062</td>\n",
       "      <td>8.325784e+03</td>\n",
       "      <td>943.698890</td>\n",
       "      <td>-25.272253</td>\n",
       "      <td>-3.297902e+04</td>\n",
       "      <td>-1.037521e+03</td>\n",
       "      <td>87.409164</td>\n",
       "      <td>940.977225</td>\n",
       "      <td>-16.053764</td>\n",
       "      <td>3.809987</td>\n",
       "      <td>2.945065</td>\n",
       "      <td>6.818760</td>\n",
       "      <td>-0.110522</td>\n",
       "    </tr>\n",
       "    <tr>\n",
       "      <th>Time_to_Market</th>\n",
       "      <td>-3.736623</td>\n",
       "      <td>32.352307</td>\n",
       "      <td>7.346978e+02</td>\n",
       "      <td>54.658746</td>\n",
       "      <td>4.505624</td>\n",
       "      <td>8.173458e+03</td>\n",
       "      <td>5.747161e+02</td>\n",
       "      <td>38.894024</td>\n",
       "      <td>-16.053764</td>\n",
       "      <td>6.668765</td>\n",
       "      <td>-0.183084</td>\n",
       "      <td>-0.320615</td>\n",
       "      <td>-0.123870</td>\n",
       "      <td>0.198268</td>\n",
       "    </tr>\n",
       "    <tr>\n",
       "      <th>Minimum_Viable_Product</th>\n",
       "      <td>-11.845083</td>\n",
       "      <td>-0.397098</td>\n",
       "      <td>5.620574e+01</td>\n",
       "      <td>-5.620315</td>\n",
       "      <td>-0.257992</td>\n",
       "      <td>-3.781518e+02</td>\n",
       "      <td>2.038409e+01</td>\n",
       "      <td>1.319381</td>\n",
       "      <td>3.809987</td>\n",
       "      <td>-0.183084</td>\n",
       "      <td>0.630052</td>\n",
       "      <td>0.222408</td>\n",
       "      <td>0.152368</td>\n",
       "      <td>0.062894</td>\n",
       "    </tr>\n",
       "    <tr>\n",
       "      <th>Saiv</th>\n",
       "      <td>-1.909487</td>\n",
       "      <td>-0.244189</td>\n",
       "      <td>1.618906e+01</td>\n",
       "      <td>2.312731</td>\n",
       "      <td>-0.207727</td>\n",
       "      <td>-4.145352e+02</td>\n",
       "      <td>6.244520e+00</td>\n",
       "      <td>1.660302</td>\n",
       "      <td>2.945065</td>\n",
       "      <td>-0.320615</td>\n",
       "      <td>0.222408</td>\n",
       "      <td>0.443837</td>\n",
       "      <td>0.133554</td>\n",
       "      <td>0.057577</td>\n",
       "    </tr>\n",
       "    <tr>\n",
       "      <th>Target_prototyping</th>\n",
       "      <td>-8.234117</td>\n",
       "      <td>0.820753</td>\n",
       "      <td>1.043278e+02</td>\n",
       "      <td>5.199079</td>\n",
       "      <td>0.177835</td>\n",
       "      <td>-1.904775e+00</td>\n",
       "      <td>4.459937e+01</td>\n",
       "      <td>3.832925</td>\n",
       "      <td>6.818760</td>\n",
       "      <td>-0.123870</td>\n",
       "      <td>0.152368</td>\n",
       "      <td>0.133554</td>\n",
       "      <td>0.645718</td>\n",
       "      <td>0.037193</td>\n",
       "    </tr>\n",
       "    <tr>\n",
       "      <th>Customer_on_Premise</th>\n",
       "      <td>-3.149695</td>\n",
       "      <td>0.091102</td>\n",
       "      <td>6.080925e+01</td>\n",
       "      <td>4.065587</td>\n",
       "      <td>0.271271</td>\n",
       "      <td>3.727959e+02</td>\n",
       "      <td>1.011168e+02</td>\n",
       "      <td>1.398227</td>\n",
       "      <td>-0.110522</td>\n",
       "      <td>0.198268</td>\n",
       "      <td>0.062894</td>\n",
       "      <td>0.057577</td>\n",
       "      <td>0.037193</td>\n",
       "      <td>0.458850</td>\n",
       "    </tr>\n",
       "  </tbody>\n",
       "</table>\n",
       "</div>"
      ],
      "text/plain": [
       "                          Project_Id  Schedule_Overrun  NormProjSize  \\\n",
       "Project_Id              12497.789382       -314.152559 -6.968186e+03   \n",
       "Schedule_Overrun         -314.152559       1148.418349  2.827847e+03   \n",
       "NormProjSize            -6968.186249       2827.847305  3.855656e+05   \n",
       "Scope_Change              821.008703        343.615668  2.556233e+04   \n",
       "Team_Size                 -13.088773          6.076000  1.147541e+03   \n",
       "Developer_Hours        -44013.486510      37675.883500  1.594293e+06   \n",
       "Customer_Hours          -7438.072237       5285.438534  1.534627e+05   \n",
       "Post_release_defects     -468.841601        218.738711  1.272655e+04   \n",
       "Productivity             -195.278695       -104.616062  8.325784e+03   \n",
       "Time_to_Market             -3.736623         32.352307  7.346978e+02   \n",
       "Minimum_Viable_Product    -11.845083         -0.397098  5.620574e+01   \n",
       "Saiv                       -1.909487         -0.244189  1.618906e+01   \n",
       "Target_prototyping         -8.234117          0.820753  1.043278e+02   \n",
       "Customer_on_Premise        -3.149695          0.091102  6.080925e+01   \n",
       "\n",
       "                        Scope_Change     Team_Size  Developer_Hours  \\\n",
       "Project_Id                821.008703    -13.088773    -4.401349e+04   \n",
       "Schedule_Overrun          343.615668      6.076000     3.767588e+04   \n",
       "NormProjSize            25562.325970   1147.540980     1.594293e+06   \n",
       "Scope_Change            10338.046175     41.720557     8.007549e+04   \n",
       "Team_Size                  41.720557     21.681414     1.748368e+04   \n",
       "Developer_Hours         80075.494214  17483.684224     2.327513e+07   \n",
       "Customer_Hours           6083.701038    952.556034     1.470689e+06   \n",
       "Post_release_defects     1065.115562    104.852758     1.093680e+05   \n",
       "Productivity              943.698890    -25.272253    -3.297902e+04   \n",
       "Time_to_Market             54.658746      4.505624     8.173458e+03   \n",
       "Minimum_Viable_Product     -5.620315     -0.257992    -3.781518e+02   \n",
       "Saiv                        2.312731     -0.207727    -4.145352e+02   \n",
       "Target_prototyping          5.199079      0.177835    -1.904775e+00   \n",
       "Customer_on_Premise         4.065587      0.271271     3.727959e+02   \n",
       "\n",
       "                        Customer_Hours  Post_release_defects  Productivity  \\\n",
       "Project_Id               -7.438072e+03           -468.841601   -195.278695   \n",
       "Schedule_Overrun          5.285439e+03            218.738711   -104.616062   \n",
       "NormProjSize              1.534627e+05          12726.547297   8325.784060   \n",
       "Scope_Change              6.083701e+03           1065.115562    943.698890   \n",
       "Team_Size                 9.525560e+02            104.852758    -25.272253   \n",
       "Developer_Hours           1.470689e+06         109368.028367 -32979.021893   \n",
       "Customer_Hours            3.428910e+05           4860.258513  -1037.521292   \n",
       "Post_release_defects      4.860259e+03           2962.211379     87.409164   \n",
       "Productivity             -1.037521e+03             87.409164    940.977225   \n",
       "Time_to_Market            5.747161e+02             38.894024    -16.053764   \n",
       "Minimum_Viable_Product    2.038409e+01              1.319381      3.809987   \n",
       "Saiv                      6.244520e+00              1.660302      2.945065   \n",
       "Target_prototyping        4.459937e+01              3.832925      6.818760   \n",
       "Customer_on_Premise       1.011168e+02              1.398227     -0.110522   \n",
       "\n",
       "                        Time_to_Market  Minimum_Viable_Product        Saiv  \\\n",
       "Project_Id                   -3.736623              -11.845083   -1.909487   \n",
       "Schedule_Overrun             32.352307               -0.397098   -0.244189   \n",
       "NormProjSize                734.697786               56.205743   16.189064   \n",
       "Scope_Change                 54.658746               -5.620315    2.312731   \n",
       "Team_Size                     4.505624               -0.257992   -0.207727   \n",
       "Developer_Hours            8173.457608             -378.151796 -414.535153   \n",
       "Customer_Hours              574.716137               20.384091    6.244520   \n",
       "Post_release_defects         38.894024                1.319381    1.660302   \n",
       "Productivity                -16.053764                3.809987    2.945065   \n",
       "Time_to_Market                6.668765               -0.183084   -0.320615   \n",
       "Minimum_Viable_Product       -0.183084                0.630052    0.222408   \n",
       "Saiv                         -0.320615                0.222408    0.443837   \n",
       "Target_prototyping           -0.123870                0.152368    0.133554   \n",
       "Customer_on_Premise           0.198268                0.062894    0.057577   \n",
       "\n",
       "                        Target_prototyping  Customer_on_Premise  \n",
       "Project_Id                       -8.234117            -3.149695  \n",
       "Schedule_Overrun                  0.820753             0.091102  \n",
       "NormProjSize                    104.327765            60.809250  \n",
       "Scope_Change                      5.199079             4.065587  \n",
       "Team_Size                         0.177835             0.271271  \n",
       "Developer_Hours                  -1.904775           372.795869  \n",
       "Customer_Hours                   44.599373           101.116827  \n",
       "Post_release_defects              3.832925             1.398227  \n",
       "Productivity                      6.818760            -0.110522  \n",
       "Time_to_Market                   -0.123870             0.198268  \n",
       "Minimum_Viable_Product            0.152368             0.062894  \n",
       "Saiv                              0.133554             0.057577  \n",
       "Target_prototyping                0.645718             0.037193  \n",
       "Customer_on_Premise               0.037193             0.458850  "
      ]
     },
     "execution_count": 9,
     "metadata": {},
     "output_type": "execute_result"
    }
   ],
   "source": [
    "df_projects.cov()"
   ]
  },
  {
   "cell_type": "code",
   "execution_count": 10,
   "metadata": {},
   "outputs": [
    {
     "data": {
      "text/html": [
       "<div>\n",
       "<style scoped>\n",
       "    .dataframe tbody tr th:only-of-type {\n",
       "        vertical-align: middle;\n",
       "    }\n",
       "\n",
       "    .dataframe tbody tr th {\n",
       "        vertical-align: top;\n",
       "    }\n",
       "\n",
       "    .dataframe thead th {\n",
       "        text-align: right;\n",
       "    }\n",
       "</style>\n",
       "<table border=\"1\" class=\"dataframe\">\n",
       "  <thead>\n",
       "    <tr style=\"text-align: right;\">\n",
       "      <th></th>\n",
       "      <th>Project_Id</th>\n",
       "      <th>Schedule_Overrun</th>\n",
       "      <th>NormProjSize</th>\n",
       "      <th>Scope_Change</th>\n",
       "      <th>Team_Size</th>\n",
       "      <th>Developer_Hours</th>\n",
       "      <th>Customer_Hours</th>\n",
       "      <th>Post_release_defects</th>\n",
       "      <th>Productivity</th>\n",
       "      <th>Time_to_Market</th>\n",
       "      <th>Minimum_Viable_Product</th>\n",
       "      <th>Saiv</th>\n",
       "      <th>Target_prototyping</th>\n",
       "      <th>Customer_on_Premise</th>\n",
       "    </tr>\n",
       "  </thead>\n",
       "  <tbody>\n",
       "    <tr>\n",
       "      <th>Project_Id</th>\n",
       "      <td>12497.789382</td>\n",
       "      <td>-314.152559</td>\n",
       "      <td>-6.968186e+03</td>\n",
       "      <td>821.008703</td>\n",
       "      <td>-13.088773</td>\n",
       "      <td>-4.401349e+04</td>\n",
       "      <td>-7.438072e+03</td>\n",
       "      <td>-468.841601</td>\n",
       "      <td>-195.278695</td>\n",
       "      <td>-3.736623</td>\n",
       "      <td>-11.845083</td>\n",
       "      <td>-1.909487</td>\n",
       "      <td>-8.234117</td>\n",
       "      <td>-3.149695</td>\n",
       "    </tr>\n",
       "    <tr>\n",
       "      <th>Schedule_Overrun</th>\n",
       "      <td>-314.152559</td>\n",
       "      <td>1148.418349</td>\n",
       "      <td>2.827847e+03</td>\n",
       "      <td>343.615668</td>\n",
       "      <td>6.076000</td>\n",
       "      <td>3.767588e+04</td>\n",
       "      <td>5.285439e+03</td>\n",
       "      <td>218.738711</td>\n",
       "      <td>-104.616062</td>\n",
       "      <td>32.352307</td>\n",
       "      <td>-0.397098</td>\n",
       "      <td>-0.244189</td>\n",
       "      <td>0.820753</td>\n",
       "      <td>0.091102</td>\n",
       "    </tr>\n",
       "    <tr>\n",
       "      <th>NormProjSize</th>\n",
       "      <td>-6968.186249</td>\n",
       "      <td>2827.847305</td>\n",
       "      <td>3.855656e+05</td>\n",
       "      <td>25562.325970</td>\n",
       "      <td>1147.540980</td>\n",
       "      <td>1.594293e+06</td>\n",
       "      <td>1.534627e+05</td>\n",
       "      <td>12726.547297</td>\n",
       "      <td>8325.784060</td>\n",
       "      <td>734.697786</td>\n",
       "      <td>56.205743</td>\n",
       "      <td>16.189064</td>\n",
       "      <td>104.327765</td>\n",
       "      <td>60.809250</td>\n",
       "    </tr>\n",
       "    <tr>\n",
       "      <th>Scope_Change</th>\n",
       "      <td>821.008703</td>\n",
       "      <td>343.615668</td>\n",
       "      <td>2.556233e+04</td>\n",
       "      <td>10338.046175</td>\n",
       "      <td>41.720557</td>\n",
       "      <td>8.007549e+04</td>\n",
       "      <td>6.083701e+03</td>\n",
       "      <td>1065.115562</td>\n",
       "      <td>943.698890</td>\n",
       "      <td>54.658746</td>\n",
       "      <td>-5.620315</td>\n",
       "      <td>2.312731</td>\n",
       "      <td>5.199079</td>\n",
       "      <td>4.065587</td>\n",
       "    </tr>\n",
       "    <tr>\n",
       "      <th>Team_Size</th>\n",
       "      <td>-13.088773</td>\n",
       "      <td>6.076000</td>\n",
       "      <td>1.147541e+03</td>\n",
       "      <td>41.720557</td>\n",
       "      <td>21.681414</td>\n",
       "      <td>1.748368e+04</td>\n",
       "      <td>9.525560e+02</td>\n",
       "      <td>104.852758</td>\n",
       "      <td>-25.272253</td>\n",
       "      <td>4.505624</td>\n",
       "      <td>-0.257992</td>\n",
       "      <td>-0.207727</td>\n",
       "      <td>0.177835</td>\n",
       "      <td>0.271271</td>\n",
       "    </tr>\n",
       "    <tr>\n",
       "      <th>Developer_Hours</th>\n",
       "      <td>-44013.486510</td>\n",
       "      <td>37675.883500</td>\n",
       "      <td>1.594293e+06</td>\n",
       "      <td>80075.494214</td>\n",
       "      <td>17483.684224</td>\n",
       "      <td>2.327513e+07</td>\n",
       "      <td>1.470689e+06</td>\n",
       "      <td>109368.028367</td>\n",
       "      <td>-32979.021893</td>\n",
       "      <td>8173.457608</td>\n",
       "      <td>-378.151796</td>\n",
       "      <td>-414.535153</td>\n",
       "      <td>-1.904775</td>\n",
       "      <td>372.795869</td>\n",
       "    </tr>\n",
       "    <tr>\n",
       "      <th>Customer_Hours</th>\n",
       "      <td>-7438.072237</td>\n",
       "      <td>5285.438534</td>\n",
       "      <td>1.534627e+05</td>\n",
       "      <td>6083.701038</td>\n",
       "      <td>952.556034</td>\n",
       "      <td>1.470689e+06</td>\n",
       "      <td>3.428910e+05</td>\n",
       "      <td>4860.258513</td>\n",
       "      <td>-1037.521292</td>\n",
       "      <td>574.716137</td>\n",
       "      <td>20.384091</td>\n",
       "      <td>6.244520</td>\n",
       "      <td>44.599373</td>\n",
       "      <td>101.116827</td>\n",
       "    </tr>\n",
       "    <tr>\n",
       "      <th>Post_release_defects</th>\n",
       "      <td>-468.841601</td>\n",
       "      <td>218.738711</td>\n",
       "      <td>1.272655e+04</td>\n",
       "      <td>1065.115562</td>\n",
       "      <td>104.852758</td>\n",
       "      <td>1.093680e+05</td>\n",
       "      <td>4.860259e+03</td>\n",
       "      <td>2962.211379</td>\n",
       "      <td>87.409164</td>\n",
       "      <td>38.894024</td>\n",
       "      <td>1.319381</td>\n",
       "      <td>1.660302</td>\n",
       "      <td>3.832925</td>\n",
       "      <td>1.398227</td>\n",
       "    </tr>\n",
       "    <tr>\n",
       "      <th>Productivity</th>\n",
       "      <td>-195.278695</td>\n",
       "      <td>-104.616062</td>\n",
       "      <td>8.325784e+03</td>\n",
       "      <td>943.698890</td>\n",
       "      <td>-25.272253</td>\n",
       "      <td>-3.297902e+04</td>\n",
       "      <td>-1.037521e+03</td>\n",
       "      <td>87.409164</td>\n",
       "      <td>940.977225</td>\n",
       "      <td>-16.053764</td>\n",
       "      <td>3.809987</td>\n",
       "      <td>2.945065</td>\n",
       "      <td>6.818760</td>\n",
       "      <td>-0.110522</td>\n",
       "    </tr>\n",
       "    <tr>\n",
       "      <th>Time_to_Market</th>\n",
       "      <td>-3.736623</td>\n",
       "      <td>32.352307</td>\n",
       "      <td>7.346978e+02</td>\n",
       "      <td>54.658746</td>\n",
       "      <td>4.505624</td>\n",
       "      <td>8.173458e+03</td>\n",
       "      <td>5.747161e+02</td>\n",
       "      <td>38.894024</td>\n",
       "      <td>-16.053764</td>\n",
       "      <td>6.668765</td>\n",
       "      <td>-0.183084</td>\n",
       "      <td>-0.320615</td>\n",
       "      <td>-0.123870</td>\n",
       "      <td>0.198268</td>\n",
       "    </tr>\n",
       "    <tr>\n",
       "      <th>Minimum_Viable_Product</th>\n",
       "      <td>-11.845083</td>\n",
       "      <td>-0.397098</td>\n",
       "      <td>5.620574e+01</td>\n",
       "      <td>-5.620315</td>\n",
       "      <td>-0.257992</td>\n",
       "      <td>-3.781518e+02</td>\n",
       "      <td>2.038409e+01</td>\n",
       "      <td>1.319381</td>\n",
       "      <td>3.809987</td>\n",
       "      <td>-0.183084</td>\n",
       "      <td>0.630052</td>\n",
       "      <td>0.222408</td>\n",
       "      <td>0.152368</td>\n",
       "      <td>0.062894</td>\n",
       "    </tr>\n",
       "    <tr>\n",
       "      <th>Saiv</th>\n",
       "      <td>-1.909487</td>\n",
       "      <td>-0.244189</td>\n",
       "      <td>1.618906e+01</td>\n",
       "      <td>2.312731</td>\n",
       "      <td>-0.207727</td>\n",
       "      <td>-4.145352e+02</td>\n",
       "      <td>6.244520e+00</td>\n",
       "      <td>1.660302</td>\n",
       "      <td>2.945065</td>\n",
       "      <td>-0.320615</td>\n",
       "      <td>0.222408</td>\n",
       "      <td>0.443837</td>\n",
       "      <td>0.133554</td>\n",
       "      <td>0.057577</td>\n",
       "    </tr>\n",
       "    <tr>\n",
       "      <th>Target_prototyping</th>\n",
       "      <td>-8.234117</td>\n",
       "      <td>0.820753</td>\n",
       "      <td>1.043278e+02</td>\n",
       "      <td>5.199079</td>\n",
       "      <td>0.177835</td>\n",
       "      <td>-1.904775e+00</td>\n",
       "      <td>4.459937e+01</td>\n",
       "      <td>3.832925</td>\n",
       "      <td>6.818760</td>\n",
       "      <td>-0.123870</td>\n",
       "      <td>0.152368</td>\n",
       "      <td>0.133554</td>\n",
       "      <td>0.645718</td>\n",
       "      <td>0.037193</td>\n",
       "    </tr>\n",
       "    <tr>\n",
       "      <th>Customer_on_Premise</th>\n",
       "      <td>-3.149695</td>\n",
       "      <td>0.091102</td>\n",
       "      <td>6.080925e+01</td>\n",
       "      <td>4.065587</td>\n",
       "      <td>0.271271</td>\n",
       "      <td>3.727959e+02</td>\n",
       "      <td>1.011168e+02</td>\n",
       "      <td>1.398227</td>\n",
       "      <td>-0.110522</td>\n",
       "      <td>0.198268</td>\n",
       "      <td>0.062894</td>\n",
       "      <td>0.057577</td>\n",
       "      <td>0.037193</td>\n",
       "      <td>0.458850</td>\n",
       "    </tr>\n",
       "  </tbody>\n",
       "</table>\n",
       "</div>"
      ],
      "text/plain": [
       "                          Project_Id  Schedule_Overrun  NormProjSize  \\\n",
       "Project_Id              12497.789382       -314.152559 -6.968186e+03   \n",
       "Schedule_Overrun         -314.152559       1148.418349  2.827847e+03   \n",
       "NormProjSize            -6968.186249       2827.847305  3.855656e+05   \n",
       "Scope_Change              821.008703        343.615668  2.556233e+04   \n",
       "Team_Size                 -13.088773          6.076000  1.147541e+03   \n",
       "Developer_Hours        -44013.486510      37675.883500  1.594293e+06   \n",
       "Customer_Hours          -7438.072237       5285.438534  1.534627e+05   \n",
       "Post_release_defects     -468.841601        218.738711  1.272655e+04   \n",
       "Productivity             -195.278695       -104.616062  8.325784e+03   \n",
       "Time_to_Market             -3.736623         32.352307  7.346978e+02   \n",
       "Minimum_Viable_Product    -11.845083         -0.397098  5.620574e+01   \n",
       "Saiv                       -1.909487         -0.244189  1.618906e+01   \n",
       "Target_prototyping         -8.234117          0.820753  1.043278e+02   \n",
       "Customer_on_Premise        -3.149695          0.091102  6.080925e+01   \n",
       "\n",
       "                        Scope_Change     Team_Size  Developer_Hours  \\\n",
       "Project_Id                821.008703    -13.088773    -4.401349e+04   \n",
       "Schedule_Overrun          343.615668      6.076000     3.767588e+04   \n",
       "NormProjSize            25562.325970   1147.540980     1.594293e+06   \n",
       "Scope_Change            10338.046175     41.720557     8.007549e+04   \n",
       "Team_Size                  41.720557     21.681414     1.748368e+04   \n",
       "Developer_Hours         80075.494214  17483.684224     2.327513e+07   \n",
       "Customer_Hours           6083.701038    952.556034     1.470689e+06   \n",
       "Post_release_defects     1065.115562    104.852758     1.093680e+05   \n",
       "Productivity              943.698890    -25.272253    -3.297902e+04   \n",
       "Time_to_Market             54.658746      4.505624     8.173458e+03   \n",
       "Minimum_Viable_Product     -5.620315     -0.257992    -3.781518e+02   \n",
       "Saiv                        2.312731     -0.207727    -4.145352e+02   \n",
       "Target_prototyping          5.199079      0.177835    -1.904775e+00   \n",
       "Customer_on_Premise         4.065587      0.271271     3.727959e+02   \n",
       "\n",
       "                        Customer_Hours  Post_release_defects  Productivity  \\\n",
       "Project_Id               -7.438072e+03           -468.841601   -195.278695   \n",
       "Schedule_Overrun          5.285439e+03            218.738711   -104.616062   \n",
       "NormProjSize              1.534627e+05          12726.547297   8325.784060   \n",
       "Scope_Change              6.083701e+03           1065.115562    943.698890   \n",
       "Team_Size                 9.525560e+02            104.852758    -25.272253   \n",
       "Developer_Hours           1.470689e+06         109368.028367 -32979.021893   \n",
       "Customer_Hours            3.428910e+05           4860.258513  -1037.521292   \n",
       "Post_release_defects      4.860259e+03           2962.211379     87.409164   \n",
       "Productivity             -1.037521e+03             87.409164    940.977225   \n",
       "Time_to_Market            5.747161e+02             38.894024    -16.053764   \n",
       "Minimum_Viable_Product    2.038409e+01              1.319381      3.809987   \n",
       "Saiv                      6.244520e+00              1.660302      2.945065   \n",
       "Target_prototyping        4.459937e+01              3.832925      6.818760   \n",
       "Customer_on_Premise       1.011168e+02              1.398227     -0.110522   \n",
       "\n",
       "                        Time_to_Market  Minimum_Viable_Product        Saiv  \\\n",
       "Project_Id                   -3.736623              -11.845083   -1.909487   \n",
       "Schedule_Overrun             32.352307               -0.397098   -0.244189   \n",
       "NormProjSize                734.697786               56.205743   16.189064   \n",
       "Scope_Change                 54.658746               -5.620315    2.312731   \n",
       "Team_Size                     4.505624               -0.257992   -0.207727   \n",
       "Developer_Hours            8173.457608             -378.151796 -414.535153   \n",
       "Customer_Hours              574.716137               20.384091    6.244520   \n",
       "Post_release_defects         38.894024                1.319381    1.660302   \n",
       "Productivity                -16.053764                3.809987    2.945065   \n",
       "Time_to_Market                6.668765               -0.183084   -0.320615   \n",
       "Minimum_Viable_Product       -0.183084                0.630052    0.222408   \n",
       "Saiv                         -0.320615                0.222408    0.443837   \n",
       "Target_prototyping           -0.123870                0.152368    0.133554   \n",
       "Customer_on_Premise           0.198268                0.062894    0.057577   \n",
       "\n",
       "                        Target_prototyping  Customer_on_Premise  \n",
       "Project_Id                       -8.234117            -3.149695  \n",
       "Schedule_Overrun                  0.820753             0.091102  \n",
       "NormProjSize                    104.327765            60.809250  \n",
       "Scope_Change                      5.199079             4.065587  \n",
       "Team_Size                         0.177835             0.271271  \n",
       "Developer_Hours                  -1.904775           372.795869  \n",
       "Customer_Hours                   44.599373           101.116827  \n",
       "Post_release_defects              3.832925             1.398227  \n",
       "Productivity                      6.818760            -0.110522  \n",
       "Time_to_Market                   -0.123870             0.198268  \n",
       "Minimum_Viable_Product            0.152368             0.062894  \n",
       "Saiv                              0.133554             0.057577  \n",
       "Target_prototyping                0.645718             0.037193  \n",
       "Customer_on_Premise               0.037193             0.458850  "
      ]
     },
     "execution_count": 10,
     "metadata": {},
     "output_type": "execute_result"
    }
   ],
   "source": [
    "df_projects.cov()"
   ]
  },
  {
   "cell_type": "markdown",
   "metadata": {},
   "source": [
    "Again, just like we saw the first few rows of the dataframe using the head() function, you can see the last few rows using the tail() function.. just to make sure Pandas figured out your start AND THE end of the dataframe correctly..."
   ]
  },
  {
   "cell_type": "markdown",
   "metadata": {},
   "source": [
    "Just like creating Tabulations using Excel, you might want to tabulate some data elements by groups that you observe. For example, the \"Region\" field and \"Project Category\" might be some you might want to examine further..."
   ]
  },
  {
   "cell_type": "markdown",
   "metadata": {},
   "source": [
    "### Tabulations by Group\n",
    "The groupby function (used below) of the Data Frame 'counts' the number of 'Project ID's associated with each Region."
   ]
  },
  {
   "cell_type": "code",
   "execution_count": 12,
   "metadata": {},
   "outputs": [
    {
     "data": {
      "text/html": [
       "<div>\n",
       "<style scoped>\n",
       "    .dataframe tbody tr th:only-of-type {\n",
       "        vertical-align: middle;\n",
       "    }\n",
       "\n",
       "    .dataframe tbody tr th {\n",
       "        vertical-align: top;\n",
       "    }\n",
       "\n",
       "    .dataframe thead th {\n",
       "        text-align: right;\n",
       "    }\n",
       "</style>\n",
       "<table border=\"1\" class=\"dataframe\">\n",
       "  <thead>\n",
       "    <tr style=\"text-align: right;\">\n",
       "      <th></th>\n",
       "      <th>Region</th>\n",
       "      <th>count</th>\n",
       "    </tr>\n",
       "  </thead>\n",
       "  <tbody>\n",
       "    <tr>\n",
       "      <th>0</th>\n",
       "      <td>Europe</td>\n",
       "      <td>77</td>\n",
       "    </tr>\n",
       "    <tr>\n",
       "      <th>1</th>\n",
       "      <td>North America</td>\n",
       "      <td>307</td>\n",
       "    </tr>\n",
       "  </tbody>\n",
       "</table>\n",
       "</div>"
      ],
      "text/plain": [
       "          Region  count\n",
       "0         Europe     77\n",
       "1  North America    307"
      ]
     },
     "execution_count": 12,
     "metadata": {},
     "output_type": "execute_result"
    }
   ],
   "source": [
    "Region_df = df_projects.groupby('Region')[\"Project_Id\"].agg([\"count\"]).reset_index() \n",
    "Region_df"
   ]
  },
  {
   "cell_type": "markdown",
   "metadata": {},
   "source": [
    "Let us group the data by \"Project Category\"\n",
    "The groupby function of a dataFrame is used below to count the number of 'Project ID's associated with each Project Category."
   ]
  },
  {
   "cell_type": "code",
   "execution_count": 13,
   "metadata": {},
   "outputs": [
    {
     "data": {
      "text/html": [
       "<div>\n",
       "<style scoped>\n",
       "    .dataframe tbody tr th:only-of-type {\n",
       "        vertical-align: middle;\n",
       "    }\n",
       "\n",
       "    .dataframe tbody tr th {\n",
       "        vertical-align: top;\n",
       "    }\n",
       "\n",
       "    .dataframe thead th {\n",
       "        text-align: right;\n",
       "    }\n",
       "</style>\n",
       "<table border=\"1\" class=\"dataframe\">\n",
       "  <thead>\n",
       "    <tr style=\"text-align: right;\">\n",
       "      <th></th>\n",
       "      <th>Proj_Cat</th>\n",
       "      <th>count</th>\n",
       "    </tr>\n",
       "  </thead>\n",
       "  <tbody>\n",
       "    <tr>\n",
       "      <th>0</th>\n",
       "      <td>Dev</td>\n",
       "      <td>219</td>\n",
       "    </tr>\n",
       "    <tr>\n",
       "      <th>1</th>\n",
       "      <td>Mod</td>\n",
       "      <td>165</td>\n",
       "    </tr>\n",
       "  </tbody>\n",
       "</table>\n",
       "</div>"
      ],
      "text/plain": [
       "  Proj_Cat  count\n",
       "0      Dev    219\n",
       "1      Mod    165"
      ]
     },
     "execution_count": 13,
     "metadata": {},
     "output_type": "execute_result"
    }
   ],
   "source": [
    "Category_df = df_projects.groupby('Proj_Cat')[\"Project_Id\"].agg([\"count\"]).reset_index() \n",
    "Category_df"
   ]
  },
  {
   "cell_type": "markdown",
   "metadata": {},
   "source": [
    "You might want to get some other statistics and variable groupings"
   ]
  },
  {
   "cell_type": "code",
   "execution_count": 18,
   "metadata": {},
   "outputs": [
    {
     "data": {
      "text/html": [
       "<div>\n",
       "<style scoped>\n",
       "    .dataframe tbody tr th:only-of-type {\n",
       "        vertical-align: middle;\n",
       "    }\n",
       "\n",
       "    .dataframe tbody tr th {\n",
       "        vertical-align: top;\n",
       "    }\n",
       "\n",
       "    .dataframe thead th {\n",
       "        text-align: right;\n",
       "    }\n",
       "</style>\n",
       "<table border=\"1\" class=\"dataframe\">\n",
       "  <thead>\n",
       "    <tr style=\"text-align: right;\">\n",
       "      <th></th>\n",
       "      <th>Proj_Cat</th>\n",
       "      <th>median</th>\n",
       "    </tr>\n",
       "  </thead>\n",
       "  <tbody>\n",
       "    <tr>\n",
       "      <th>0</th>\n",
       "      <td>Dev</td>\n",
       "      <td>4.13</td>\n",
       "    </tr>\n",
       "    <tr>\n",
       "      <th>1</th>\n",
       "      <td>Mod</td>\n",
       "      <td>3.30</td>\n",
       "    </tr>\n",
       "  </tbody>\n",
       "</table>\n",
       "</div>"
      ],
      "text/plain": [
       "  Proj_Cat  median\n",
       "0      Dev    4.13\n",
       "1      Mod    3.30"
      ]
     },
     "execution_count": 18,
     "metadata": {},
     "output_type": "execute_result"
    }
   ],
   "source": [
    "Time_df = df_projects.groupby('Proj_Cat')[\"Time_to_Market\"].agg([\"median\"]).reset_index() \n",
    "Time_df"
   ]
  },
  {
   "cell_type": "code",
   "execution_count": 20,
   "metadata": {},
   "outputs": [
    {
     "data": {
      "text/html": [
       "<div>\n",
       "<style scoped>\n",
       "    .dataframe tbody tr th:only-of-type {\n",
       "        vertical-align: middle;\n",
       "    }\n",
       "\n",
       "    .dataframe tbody tr th {\n",
       "        vertical-align: top;\n",
       "    }\n",
       "\n",
       "    .dataframe thead th {\n",
       "        text-align: right;\n",
       "    }\n",
       "</style>\n",
       "<table border=\"1\" class=\"dataframe\">\n",
       "  <thead>\n",
       "    <tr style=\"text-align: right;\">\n",
       "      <th></th>\n",
       "      <th>Proj_Cat</th>\n",
       "      <th>median</th>\n",
       "    </tr>\n",
       "  </thead>\n",
       "  <tbody>\n",
       "    <tr>\n",
       "      <th>0</th>\n",
       "      <td>Dev</td>\n",
       "      <td>30.63</td>\n",
       "    </tr>\n",
       "    <tr>\n",
       "      <th>1</th>\n",
       "      <td>Mod</td>\n",
       "      <td>22.53</td>\n",
       "    </tr>\n",
       "  </tbody>\n",
       "</table>\n",
       "</div>"
      ],
      "text/plain": [
       "  Proj_Cat  median\n",
       "0      Dev   30.63\n",
       "1      Mod   22.53"
      ]
     },
     "execution_count": 20,
     "metadata": {},
     "output_type": "execute_result"
    }
   ],
   "source": [
    "Productivity_df = df_projects.groupby('Proj_Cat')[\"Productivity\"].agg([\"median\"]).reset_index() \n",
    "Productivity_df"
   ]
  },
  {
   "cell_type": "code",
   "execution_count": 26,
   "metadata": {},
   "outputs": [
    {
     "data": {
      "text/html": [
       "<div>\n",
       "<style scoped>\n",
       "    .dataframe tbody tr th:only-of-type {\n",
       "        vertical-align: middle;\n",
       "    }\n",
       "\n",
       "    .dataframe tbody tr th {\n",
       "        vertical-align: top;\n",
       "    }\n",
       "\n",
       "    .dataframe thead th {\n",
       "        text-align: right;\n",
       "    }\n",
       "</style>\n",
       "<table border=\"1\" class=\"dataframe\">\n",
       "  <thead>\n",
       "    <tr style=\"text-align: right;\">\n",
       "      <th></th>\n",
       "      <th>Region</th>\n",
       "      <th>median</th>\n",
       "    </tr>\n",
       "  </thead>\n",
       "  <tbody>\n",
       "    <tr>\n",
       "      <th>0</th>\n",
       "      <td>Europe</td>\n",
       "      <td>0</td>\n",
       "    </tr>\n",
       "    <tr>\n",
       "      <th>1</th>\n",
       "      <td>North America</td>\n",
       "      <td>6</td>\n",
       "    </tr>\n",
       "  </tbody>\n",
       "</table>\n",
       "</div>"
      ],
      "text/plain": [
       "          Region  median\n",
       "0         Europe       0\n",
       "1  North America       6"
      ]
     },
     "execution_count": 26,
     "metadata": {},
     "output_type": "execute_result"
    }
   ],
   "source": [
    "Def2_df = df_projects.groupby('Region')[\"Post_release_defects\"].agg([\"median\"]).reset_index() \n",
    "Def2_df"
   ]
  },
  {
   "cell_type": "code",
   "execution_count": 21,
   "metadata": {},
   "outputs": [
    {
     "data": {
      "text/html": [
       "<div>\n",
       "<style scoped>\n",
       "    .dataframe tbody tr th:only-of-type {\n",
       "        vertical-align: middle;\n",
       "    }\n",
       "\n",
       "    .dataframe tbody tr th {\n",
       "        vertical-align: top;\n",
       "    }\n",
       "\n",
       "    .dataframe thead th {\n",
       "        text-align: right;\n",
       "    }\n",
       "</style>\n",
       "<table border=\"1\" class=\"dataframe\">\n",
       "  <thead>\n",
       "    <tr style=\"text-align: right;\">\n",
       "      <th></th>\n",
       "      <th>Proj_Cat</th>\n",
       "      <th>median</th>\n",
       "    </tr>\n",
       "  </thead>\n",
       "  <tbody>\n",
       "    <tr>\n",
       "      <th>0</th>\n",
       "      <td>Dev</td>\n",
       "      <td>6</td>\n",
       "    </tr>\n",
       "    <tr>\n",
       "      <th>1</th>\n",
       "      <td>Mod</td>\n",
       "      <td>3</td>\n",
       "    </tr>\n",
       "  </tbody>\n",
       "</table>\n",
       "</div>"
      ],
      "text/plain": [
       "  Proj_Cat  median\n",
       "0      Dev       6\n",
       "1      Mod       3"
      ]
     },
     "execution_count": 21,
     "metadata": {},
     "output_type": "execute_result"
    }
   ],
   "source": [
    "Defects_df = df_projects.groupby('Proj_Cat')[\"Post_release_defects\"].agg([\"median\"]).reset_index() \n",
    "Defects_df"
   ]
  },
  {
   "cell_type": "markdown",
   "metadata": {},
   "source": [
    "# Pearson Correlations"
   ]
  },
  {
   "cell_type": "code",
   "execution_count": null,
   "metadata": {},
   "outputs": [],
   "source": []
  },
  {
   "cell_type": "markdown",
   "metadata": {},
   "source": [
    "A quick reference to read about Pearson correlations is here (to get the right intuition):\n",
    "\n",
    "http://onlinestatbook.com/2/describing_bivariate_data/pearson.html\n",
    "\n",
    "In brief, \n",
    "- 1 pearson correlation => Perfectly negatively correlated variables\n",
    "+ 1 pearson correlation => Perfectly positively correlated variables\n",
    "  \n",
    "  0 correlation => Variables are not correlated"
   ]
  },
  {
   "cell_type": "code",
   "execution_count": 23,
   "metadata": {},
   "outputs": [
    {
     "data": {
      "text/html": [
       "<div>\n",
       "<style scoped>\n",
       "    .dataframe tbody tr th:only-of-type {\n",
       "        vertical-align: middle;\n",
       "    }\n",
       "\n",
       "    .dataframe tbody tr th {\n",
       "        vertical-align: top;\n",
       "    }\n",
       "\n",
       "    .dataframe thead th {\n",
       "        text-align: right;\n",
       "    }\n",
       "</style>\n",
       "<table border=\"1\" class=\"dataframe\">\n",
       "  <thead>\n",
       "    <tr style=\"text-align: right;\">\n",
       "      <th></th>\n",
       "      <th>Project_Id</th>\n",
       "      <th>Schedule_Overrun</th>\n",
       "      <th>NormProjSize</th>\n",
       "      <th>Scope_Change</th>\n",
       "      <th>Team_Size</th>\n",
       "      <th>Developer_Hours</th>\n",
       "      <th>Customer_Hours</th>\n",
       "      <th>Post_release_defects</th>\n",
       "      <th>Productivity</th>\n",
       "      <th>Time_to_Market</th>\n",
       "      <th>Minimum_Viable_Product</th>\n",
       "      <th>Saiv</th>\n",
       "      <th>Target_prototyping</th>\n",
       "      <th>Customer_on_Premise</th>\n",
       "    </tr>\n",
       "  </thead>\n",
       "  <tbody>\n",
       "    <tr>\n",
       "      <th>Project_Id</th>\n",
       "      <td>1.000000</td>\n",
       "      <td>-0.082923</td>\n",
       "      <td>-0.100382</td>\n",
       "      <td>0.072229</td>\n",
       "      <td>-0.025144</td>\n",
       "      <td>-0.081606</td>\n",
       "      <td>-0.113623</td>\n",
       "      <td>-0.077055</td>\n",
       "      <td>-0.056944</td>\n",
       "      <td>-0.012943</td>\n",
       "      <td>-0.133485</td>\n",
       "      <td>-0.025638</td>\n",
       "      <td>-0.091660</td>\n",
       "      <td>-0.041593</td>\n",
       "    </tr>\n",
       "    <tr>\n",
       "      <th>Schedule_Overrun</th>\n",
       "      <td>-0.082923</td>\n",
       "      <td>1.000000</td>\n",
       "      <td>0.134387</td>\n",
       "      <td>0.099725</td>\n",
       "      <td>0.038506</td>\n",
       "      <td>0.230445</td>\n",
       "      <td>0.266350</td>\n",
       "      <td>0.118595</td>\n",
       "      <td>-0.100637</td>\n",
       "      <td>0.369686</td>\n",
       "      <td>-0.014762</td>\n",
       "      <td>-0.010816</td>\n",
       "      <td>0.030140</td>\n",
       "      <td>0.003969</td>\n",
       "    </tr>\n",
       "    <tr>\n",
       "      <th>NormProjSize</th>\n",
       "      <td>-0.100382</td>\n",
       "      <td>0.134387</td>\n",
       "      <td>1.000000</td>\n",
       "      <td>0.404885</td>\n",
       "      <td>0.396895</td>\n",
       "      <td>0.532198</td>\n",
       "      <td>0.422061</td>\n",
       "      <td>0.376577</td>\n",
       "      <td>0.437106</td>\n",
       "      <td>0.458181</td>\n",
       "      <td>0.114036</td>\n",
       "      <td>0.039135</td>\n",
       "      <td>0.209088</td>\n",
       "      <td>0.144572</td>\n",
       "    </tr>\n",
       "    <tr>\n",
       "      <th>Scope_Change</th>\n",
       "      <td>0.072229</td>\n",
       "      <td>0.099725</td>\n",
       "      <td>0.404885</td>\n",
       "      <td>1.000000</td>\n",
       "      <td>0.088123</td>\n",
       "      <td>0.163243</td>\n",
       "      <td>0.102181</td>\n",
       "      <td>0.192473</td>\n",
       "      <td>0.302569</td>\n",
       "      <td>0.208170</td>\n",
       "      <td>-0.069639</td>\n",
       "      <td>0.034142</td>\n",
       "      <td>0.063634</td>\n",
       "      <td>0.059029</td>\n",
       "    </tr>\n",
       "    <tr>\n",
       "      <th>Team_Size</th>\n",
       "      <td>-0.025144</td>\n",
       "      <td>0.038506</td>\n",
       "      <td>0.396895</td>\n",
       "      <td>0.088123</td>\n",
       "      <td>1.000000</td>\n",
       "      <td>0.778293</td>\n",
       "      <td>0.349356</td>\n",
       "      <td>0.413740</td>\n",
       "      <td>-0.176934</td>\n",
       "      <td>0.374704</td>\n",
       "      <td>-0.069803</td>\n",
       "      <td>-0.066963</td>\n",
       "      <td>0.047528</td>\n",
       "      <td>0.086005</td>\n",
       "    </tr>\n",
       "    <tr>\n",
       "      <th>Developer_Hours</th>\n",
       "      <td>-0.081606</td>\n",
       "      <td>0.230445</td>\n",
       "      <td>0.532198</td>\n",
       "      <td>0.163243</td>\n",
       "      <td>0.778293</td>\n",
       "      <td>1.000000</td>\n",
       "      <td>0.520591</td>\n",
       "      <td>0.416520</td>\n",
       "      <td>-0.222845</td>\n",
       "      <td>0.656050</td>\n",
       "      <td>-0.098749</td>\n",
       "      <td>-0.128974</td>\n",
       "      <td>-0.000491</td>\n",
       "      <td>0.114075</td>\n",
       "    </tr>\n",
       "    <tr>\n",
       "      <th>Customer_Hours</th>\n",
       "      <td>-0.113623</td>\n",
       "      <td>0.266350</td>\n",
       "      <td>0.422061</td>\n",
       "      <td>0.102181</td>\n",
       "      <td>0.349356</td>\n",
       "      <td>0.520591</td>\n",
       "      <td>1.000000</td>\n",
       "      <td>0.152501</td>\n",
       "      <td>-0.057760</td>\n",
       "      <td>0.380060</td>\n",
       "      <td>0.043856</td>\n",
       "      <td>0.016007</td>\n",
       "      <td>0.094783</td>\n",
       "      <td>0.254924</td>\n",
       "    </tr>\n",
       "    <tr>\n",
       "      <th>Post_release_defects</th>\n",
       "      <td>-0.077055</td>\n",
       "      <td>0.118595</td>\n",
       "      <td>0.376577</td>\n",
       "      <td>0.192473</td>\n",
       "      <td>0.413740</td>\n",
       "      <td>0.416520</td>\n",
       "      <td>0.152501</td>\n",
       "      <td>1.000000</td>\n",
       "      <td>0.052355</td>\n",
       "      <td>0.276727</td>\n",
       "      <td>0.030540</td>\n",
       "      <td>0.045790</td>\n",
       "      <td>0.087640</td>\n",
       "      <td>0.037926</td>\n",
       "    </tr>\n",
       "    <tr>\n",
       "      <th>Productivity</th>\n",
       "      <td>-0.056944</td>\n",
       "      <td>-0.100637</td>\n",
       "      <td>0.437106</td>\n",
       "      <td>0.302569</td>\n",
       "      <td>-0.176934</td>\n",
       "      <td>-0.222845</td>\n",
       "      <td>-0.057760</td>\n",
       "      <td>0.052355</td>\n",
       "      <td>1.000000</td>\n",
       "      <td>-0.202658</td>\n",
       "      <td>0.156475</td>\n",
       "      <td>0.144110</td>\n",
       "      <td>0.276627</td>\n",
       "      <td>-0.005319</td>\n",
       "    </tr>\n",
       "    <tr>\n",
       "      <th>Time_to_Market</th>\n",
       "      <td>-0.012943</td>\n",
       "      <td>0.369686</td>\n",
       "      <td>0.458181</td>\n",
       "      <td>0.208170</td>\n",
       "      <td>0.374704</td>\n",
       "      <td>0.656050</td>\n",
       "      <td>0.380060</td>\n",
       "      <td>0.276727</td>\n",
       "      <td>-0.202658</td>\n",
       "      <td>1.000000</td>\n",
       "      <td>-0.089318</td>\n",
       "      <td>-0.186358</td>\n",
       "      <td>-0.059693</td>\n",
       "      <td>0.113343</td>\n",
       "    </tr>\n",
       "    <tr>\n",
       "      <th>Minimum_Viable_Product</th>\n",
       "      <td>-0.133485</td>\n",
       "      <td>-0.014762</td>\n",
       "      <td>0.114036</td>\n",
       "      <td>-0.069639</td>\n",
       "      <td>-0.069803</td>\n",
       "      <td>-0.098749</td>\n",
       "      <td>0.043856</td>\n",
       "      <td>0.030540</td>\n",
       "      <td>0.156475</td>\n",
       "      <td>-0.089318</td>\n",
       "      <td>1.000000</td>\n",
       "      <td>0.420582</td>\n",
       "      <td>0.238882</td>\n",
       "      <td>0.116974</td>\n",
       "    </tr>\n",
       "    <tr>\n",
       "      <th>Saiv</th>\n",
       "      <td>-0.025638</td>\n",
       "      <td>-0.010816</td>\n",
       "      <td>0.039135</td>\n",
       "      <td>0.034142</td>\n",
       "      <td>-0.066963</td>\n",
       "      <td>-0.128974</td>\n",
       "      <td>0.016007</td>\n",
       "      <td>0.045790</td>\n",
       "      <td>0.144110</td>\n",
       "      <td>-0.186358</td>\n",
       "      <td>0.420582</td>\n",
       "      <td>1.000000</td>\n",
       "      <td>0.249472</td>\n",
       "      <td>0.127586</td>\n",
       "    </tr>\n",
       "    <tr>\n",
       "      <th>Target_prototyping</th>\n",
       "      <td>-0.091660</td>\n",
       "      <td>0.030140</td>\n",
       "      <td>0.209088</td>\n",
       "      <td>0.063634</td>\n",
       "      <td>0.047528</td>\n",
       "      <td>-0.000491</td>\n",
       "      <td>0.094783</td>\n",
       "      <td>0.087640</td>\n",
       "      <td>0.276627</td>\n",
       "      <td>-0.059693</td>\n",
       "      <td>0.238882</td>\n",
       "      <td>0.249472</td>\n",
       "      <td>1.000000</td>\n",
       "      <td>0.068328</td>\n",
       "    </tr>\n",
       "    <tr>\n",
       "      <th>Customer_on_Premise</th>\n",
       "      <td>-0.041593</td>\n",
       "      <td>0.003969</td>\n",
       "      <td>0.144572</td>\n",
       "      <td>0.059029</td>\n",
       "      <td>0.086005</td>\n",
       "      <td>0.114075</td>\n",
       "      <td>0.254924</td>\n",
       "      <td>0.037926</td>\n",
       "      <td>-0.005319</td>\n",
       "      <td>0.113343</td>\n",
       "      <td>0.116974</td>\n",
       "      <td>0.127586</td>\n",
       "      <td>0.068328</td>\n",
       "      <td>1.000000</td>\n",
       "    </tr>\n",
       "  </tbody>\n",
       "</table>\n",
       "</div>"
      ],
      "text/plain": [
       "                        Project_Id  Schedule_Overrun  NormProjSize  \\\n",
       "Project_Id                1.000000         -0.082923     -0.100382   \n",
       "Schedule_Overrun         -0.082923          1.000000      0.134387   \n",
       "NormProjSize             -0.100382          0.134387      1.000000   \n",
       "Scope_Change              0.072229          0.099725      0.404885   \n",
       "Team_Size                -0.025144          0.038506      0.396895   \n",
       "Developer_Hours          -0.081606          0.230445      0.532198   \n",
       "Customer_Hours           -0.113623          0.266350      0.422061   \n",
       "Post_release_defects     -0.077055          0.118595      0.376577   \n",
       "Productivity             -0.056944         -0.100637      0.437106   \n",
       "Time_to_Market           -0.012943          0.369686      0.458181   \n",
       "Minimum_Viable_Product   -0.133485         -0.014762      0.114036   \n",
       "Saiv                     -0.025638         -0.010816      0.039135   \n",
       "Target_prototyping       -0.091660          0.030140      0.209088   \n",
       "Customer_on_Premise      -0.041593          0.003969      0.144572   \n",
       "\n",
       "                        Scope_Change  Team_Size  Developer_Hours  \\\n",
       "Project_Id                  0.072229  -0.025144        -0.081606   \n",
       "Schedule_Overrun            0.099725   0.038506         0.230445   \n",
       "NormProjSize                0.404885   0.396895         0.532198   \n",
       "Scope_Change                1.000000   0.088123         0.163243   \n",
       "Team_Size                   0.088123   1.000000         0.778293   \n",
       "Developer_Hours             0.163243   0.778293         1.000000   \n",
       "Customer_Hours              0.102181   0.349356         0.520591   \n",
       "Post_release_defects        0.192473   0.413740         0.416520   \n",
       "Productivity                0.302569  -0.176934        -0.222845   \n",
       "Time_to_Market              0.208170   0.374704         0.656050   \n",
       "Minimum_Viable_Product     -0.069639  -0.069803        -0.098749   \n",
       "Saiv                        0.034142  -0.066963        -0.128974   \n",
       "Target_prototyping          0.063634   0.047528        -0.000491   \n",
       "Customer_on_Premise         0.059029   0.086005         0.114075   \n",
       "\n",
       "                        Customer_Hours  Post_release_defects  Productivity  \\\n",
       "Project_Id                   -0.113623             -0.077055     -0.056944   \n",
       "Schedule_Overrun              0.266350              0.118595     -0.100637   \n",
       "NormProjSize                  0.422061              0.376577      0.437106   \n",
       "Scope_Change                  0.102181              0.192473      0.302569   \n",
       "Team_Size                     0.349356              0.413740     -0.176934   \n",
       "Developer_Hours               0.520591              0.416520     -0.222845   \n",
       "Customer_Hours                1.000000              0.152501     -0.057760   \n",
       "Post_release_defects          0.152501              1.000000      0.052355   \n",
       "Productivity                 -0.057760              0.052355      1.000000   \n",
       "Time_to_Market                0.380060              0.276727     -0.202658   \n",
       "Minimum_Viable_Product        0.043856              0.030540      0.156475   \n",
       "Saiv                          0.016007              0.045790      0.144110   \n",
       "Target_prototyping            0.094783              0.087640      0.276627   \n",
       "Customer_on_Premise           0.254924              0.037926     -0.005319   \n",
       "\n",
       "                        Time_to_Market  Minimum_Viable_Product      Saiv  \\\n",
       "Project_Id                   -0.012943               -0.133485 -0.025638   \n",
       "Schedule_Overrun              0.369686               -0.014762 -0.010816   \n",
       "NormProjSize                  0.458181                0.114036  0.039135   \n",
       "Scope_Change                  0.208170               -0.069639  0.034142   \n",
       "Team_Size                     0.374704               -0.069803 -0.066963   \n",
       "Developer_Hours               0.656050               -0.098749 -0.128974   \n",
       "Customer_Hours                0.380060                0.043856  0.016007   \n",
       "Post_release_defects          0.276727                0.030540  0.045790   \n",
       "Productivity                 -0.202658                0.156475  0.144110   \n",
       "Time_to_Market                1.000000               -0.089318 -0.186358   \n",
       "Minimum_Viable_Product       -0.089318                1.000000  0.420582   \n",
       "Saiv                         -0.186358                0.420582  1.000000   \n",
       "Target_prototyping           -0.059693                0.238882  0.249472   \n",
       "Customer_on_Premise           0.113343                0.116974  0.127586   \n",
       "\n",
       "                        Target_prototyping  Customer_on_Premise  \n",
       "Project_Id                       -0.091660            -0.041593  \n",
       "Schedule_Overrun                  0.030140             0.003969  \n",
       "NormProjSize                      0.209088             0.144572  \n",
       "Scope_Change                      0.063634             0.059029  \n",
       "Team_Size                         0.047528             0.086005  \n",
       "Developer_Hours                  -0.000491             0.114075  \n",
       "Customer_Hours                    0.094783             0.254924  \n",
       "Post_release_defects              0.087640             0.037926  \n",
       "Productivity                      0.276627            -0.005319  \n",
       "Time_to_Market                   -0.059693             0.113343  \n",
       "Minimum_Viable_Product            0.238882             0.116974  \n",
       "Saiv                              0.249472             0.127586  \n",
       "Target_prototyping                1.000000             0.068328  \n",
       "Customer_on_Premise               0.068328             1.000000  "
      ]
     },
     "execution_count": 23,
     "metadata": {},
     "output_type": "execute_result"
    }
   ],
   "source": [
    "df_projects.corr()"
   ]
  },
  {
   "cell_type": "code",
   "execution_count": 20,
   "metadata": {},
   "outputs": [
    {
     "data": {
      "text/plain": [
       "<matplotlib.collections.PathCollection at 0x7fb9ae225c70>"
      ]
     },
     "execution_count": 20,
     "metadata": {},
     "output_type": "execute_result"
    },
    {
     "data": {
      "image/png": "[encoded data removed]",
      "text/plain": [
       "<Figure size 432x288 with 1 Axes>"
      ]
     },
     "metadata": {
      "needs_background": "light"
     },
     "output_type": "display_data"
    }
   ],
   "source": [
    "plt.scatter(df_projects['NormProjSize'],df_projects['Productivity'])"
   ]
  },
  {
   "cell_type": "code",
   "execution_count": 21,
   "metadata": {},
   "outputs": [
    {
     "data": {
      "text/plain": [
       "<matplotlib.collections.PathCollection at 0x7fb9af309c10>"
      ]
     },
     "execution_count": 21,
     "metadata": {},
     "output_type": "execute_result"
    },
    {
     "data": {
      "image/png": "[encoded data removed]",
      "text/plain": [
       "<Figure size 432x288 with 1 Axes>"
      ]
     },
     "metadata": {
      "needs_background": "light"
     },
     "output_type": "display_data"
    }
   ],
   "source": [
    "plt.scatter(df_projects['NormProjSize'],df_projects['Time_to_Market'])"
   ]
  },
  {
   "cell_type": "code",
   "execution_count": 22,
   "metadata": {},
   "outputs": [
    {
     "data": {
      "text/plain": [
       "<matplotlib.collections.PathCollection at 0x7fb9af3ca8b0>"
      ]
     },
     "execution_count": 22,
     "metadata": {},
     "output_type": "execute_result"
    },
    {
     "data": {
      "image/png": "[encoded data removed]",
      "text/plain": [
       "<Figure size 432x288 with 1 Axes>"
      ]
     },
     "metadata": {
      "needs_background": "light"
     },
     "output_type": "display_data"
    }
   ],
   "source": [
    "plt.scatter(np.log(1+df_projects['Customer_Hours']),np.log(1+df_projects['Productivity']))"
   ]
  },
  {
   "cell_type": "code",
   "execution_count": 24,
   "metadata": {},
   "outputs": [
    {
     "data": {
      "text/plain": [
       "<matplotlib.collections.PathCollection at 0x7fb9af47aee0>"
      ]
     },
     "execution_count": 24,
     "metadata": {},
     "output_type": "execute_result"
    },
    {
     "data": {
      "image/png": "[encoded data removed]",
      "text/plain": [
       "<Figure size 432x288 with 1 Axes>"
      ]
     },
     "metadata": {
      "needs_background": "light"
     },
     "output_type": "display_data"
    }
   ],
   "source": [
    "plt.scatter(df_projects['Customer_Hours'],df_projects['Productivity'])"
   ]
  },
  {
   "cell_type": "code",
   "execution_count": 28,
   "metadata": {},
   "outputs": [
    {
     "data": {
      "image/png": "[encoded data removed]",
      "text/plain": [
       "<Figure size 432x288 with 1 Axes>"
      ]
     },
     "metadata": {
      "needs_background": "light"
     },
     "output_type": "display_data"
    }
   ],
   "source": [
    "plt.scatter(df_projects['Customer_Hours'],df_projects['Productivity'])\n",
    "\n",
    "x = df_projects['Customer_Hours']\n",
    "y = df_projects['Productivity']\n",
    "z = np.polyfit(x, y, 1)\n",
    "p = np.poly1d(z)\n",
    "plt.plot(x,p(x),\"r--\")\n",
    "plt.show()"
   ]
  },
  {
   "cell_type": "code",
   "execution_count": 29,
   "metadata": {},
   "outputs": [
    {
     "data": {
      "image/png": "[encoded data removed]",
      "text/plain": [
       "<Figure size 432x288 with 1 Axes>"
      ]
     },
     "metadata": {
      "needs_background": "light"
     },
     "output_type": "display_data"
    }
   ],
   "source": [
    "plt.scatter(np.log(1+df_projects['Customer_Hours']),np.log(1+df_projects['Productivity']))\n",
    "x = np.log(1+df_projects['Customer_Hours'])\n",
    "y = np.log(1+df_projects['Productivity'])\n",
    "z = np.polyfit(x, y, 1)\n",
    "p = np.poly1d(z)\n",
    "plt.plot(x,p(x),\"r--\")\n",
    "plt.show()"
   ]
  },
  {
   "cell_type": "code",
   "execution_count": 36,
   "metadata": {},
   "outputs": [
    {
     "data": {
      "image/png": "[encoded data removed]",
      "text/plain": [
       "<Figure size 432x288 with 1 Axes>"
      ]
     },
     "metadata": {},
     "output_type": "display_data"
    }
   ],
   "source": [
    "x = np.log(1+df_projects['Customer_Hours'])\n",
    "y = np.log(1+df_projects['Productivity'])\n",
    "z = np.polyfit(x, y, 1)\n",
    "p = np.poly1d(z)\n",
    "plt.plot(x,p(x),\"r--\")\n",
    "plt.show()"
   ]
  },
  {
   "cell_type": "markdown",
   "metadata": {},
   "source": [
    "Of course, you should ignore the Project_Id Column and Row in the Correlation table since it does not have quantitative significance of any kind..."
   ]
  },
  {
   "cell_type": "markdown",
   "metadata": {},
   "source": [
    "Let us say - a project is defined as successful if it is on-time and the product is relatively defect_free\n",
    "We use the median value of Schedule_Overrun and the median value of Post_release_defects to define a new variable: \"Success\""
   ]
  },
  {
   "cell_type": "code",
   "execution_count": 12,
   "metadata": {},
   "outputs": [
    {
     "data": {
      "text/html": [
       "<div>\n",
       "<style scoped>\n",
       "    .dataframe tbody tr th:only-of-type {\n",
       "        vertical-align: middle;\n",
       "    }\n",
       "\n",
       "    .dataframe tbody tr th {\n",
       "        vertical-align: top;\n",
       "    }\n",
       "\n",
       "    .dataframe thead th {\n",
       "        text-align: right;\n",
       "    }\n",
       "</style>\n",
       "<table border=\"1\" class=\"dataframe\">\n",
       "  <thead>\n",
       "    <tr style=\"text-align: right;\">\n",
       "      <th></th>\n",
       "      <th>Region</th>\n",
       "      <th>Project_Id</th>\n",
       "      <th>Proj_Cat</th>\n",
       "      <th>Schedule_Overrun</th>\n",
       "      <th>NormProjSize</th>\n",
       "      <th>Scope_Change</th>\n",
       "      <th>Team_Size</th>\n",
       "      <th>Developer_Hours</th>\n",
       "      <th>Customer_Hours</th>\n",
       "      <th>Post_release_defects</th>\n",
       "      <th>Productivity</th>\n",
       "      <th>Time_to_Market</th>\n",
       "      <th>Minimum_Viable_Product</th>\n",
       "      <th>Saiv</th>\n",
       "      <th>Target_prototyping</th>\n",
       "      <th>Customer_on_Premise</th>\n",
       "      <th>Success</th>\n",
       "      <th>High_customer_engagement</th>\n",
       "    </tr>\n",
       "  </thead>\n",
       "  <tbody>\n",
       "    <tr>\n",
       "      <th>0</th>\n",
       "      <td>North America</td>\n",
       "      <td>1</td>\n",
       "      <td>Dev</td>\n",
       "      <td>2.48</td>\n",
       "      <td>862</td>\n",
       "      <td>6</td>\n",
       "      <td>7.0</td>\n",
       "      <td>3528</td>\n",
       "      <td>512</td>\n",
       "      <td>45</td>\n",
       "      <td>43.89</td>\n",
       "      <td>4.13</td>\n",
       "      <td>0</td>\n",
       "      <td>2</td>\n",
       "      <td>2</td>\n",
       "      <td>2</td>\n",
       "      <td>0.0</td>\n",
       "      <td>1</td>\n",
       "    </tr>\n",
       "    <tr>\n",
       "      <th>1</th>\n",
       "      <td>North America</td>\n",
       "      <td>2</td>\n",
       "      <td>Dev</td>\n",
       "      <td>0.00</td>\n",
       "      <td>669</td>\n",
       "      <td>-46</td>\n",
       "      <td>6.0</td>\n",
       "      <td>4259</td>\n",
       "      <td>135</td>\n",
       "      <td>0</td>\n",
       "      <td>24.09</td>\n",
       "      <td>4.03</td>\n",
       "      <td>1</td>\n",
       "      <td>1</td>\n",
       "      <td>1</td>\n",
       "      <td>1</td>\n",
       "      <td>1.0</td>\n",
       "      <td>0</td>\n",
       "    </tr>\n",
       "    <tr>\n",
       "      <th>2</th>\n",
       "      <td>North America</td>\n",
       "      <td>3</td>\n",
       "      <td>Dev</td>\n",
       "      <td>-0.72</td>\n",
       "      <td>283</td>\n",
       "      <td>53</td>\n",
       "      <td>4.9</td>\n",
       "      <td>2023</td>\n",
       "      <td>10</td>\n",
       "      <td>7</td>\n",
       "      <td>28.37</td>\n",
       "      <td>4.57</td>\n",
       "      <td>2</td>\n",
       "      <td>2</td>\n",
       "      <td>2</td>\n",
       "      <td>2</td>\n",
       "      <td>0.0</td>\n",
       "      <td>0</td>\n",
       "    </tr>\n",
       "    <tr>\n",
       "      <th>3</th>\n",
       "      <td>North America</td>\n",
       "      <td>4</td>\n",
       "      <td>Dev</td>\n",
       "      <td>4.96</td>\n",
       "      <td>803</td>\n",
       "      <td>-10</td>\n",
       "      <td>5.0</td>\n",
       "      <td>3736</td>\n",
       "      <td>611</td>\n",
       "      <td>29</td>\n",
       "      <td>39.00</td>\n",
       "      <td>4.23</td>\n",
       "      <td>2</td>\n",
       "      <td>2</td>\n",
       "      <td>2</td>\n",
       "      <td>2</td>\n",
       "      <td>0.0</td>\n",
       "      <td>1</td>\n",
       "    </tr>\n",
       "    <tr>\n",
       "      <th>4</th>\n",
       "      <td>North America</td>\n",
       "      <td>5</td>\n",
       "      <td>Dev</td>\n",
       "      <td>56.20</td>\n",
       "      <td>1340</td>\n",
       "      <td>65</td>\n",
       "      <td>6.0</td>\n",
       "      <td>6000</td>\n",
       "      <td>660</td>\n",
       "      <td>8</td>\n",
       "      <td>40.89</td>\n",
       "      <td>6.30</td>\n",
       "      <td>2</td>\n",
       "      <td>2</td>\n",
       "      <td>1</td>\n",
       "      <td>2</td>\n",
       "      <td>0.0</td>\n",
       "      <td>1</td>\n",
       "    </tr>\n",
       "    <tr>\n",
       "      <th>5</th>\n",
       "      <td>North America</td>\n",
       "      <td>6</td>\n",
       "      <td>Dev</td>\n",
       "      <td>29.75</td>\n",
       "      <td>607</td>\n",
       "      <td>-39</td>\n",
       "      <td>5.0</td>\n",
       "      <td>4148</td>\n",
       "      <td>1570</td>\n",
       "      <td>16</td>\n",
       "      <td>24.99</td>\n",
       "      <td>5.23</td>\n",
       "      <td>2</td>\n",
       "      <td>2</td>\n",
       "      <td>1</td>\n",
       "      <td>2</td>\n",
       "      <td>0.0</td>\n",
       "      <td>1</td>\n",
       "    </tr>\n",
       "    <tr>\n",
       "      <th>6</th>\n",
       "      <td>North America</td>\n",
       "      <td>7</td>\n",
       "      <td>Mod</td>\n",
       "      <td>4.04</td>\n",
       "      <td>253</td>\n",
       "      <td>-59</td>\n",
       "      <td>6.0</td>\n",
       "      <td>2699</td>\n",
       "      <td>553</td>\n",
       "      <td>3</td>\n",
       "      <td>15.71</td>\n",
       "      <td>3.43</td>\n",
       "      <td>2</td>\n",
       "      <td>2</td>\n",
       "      <td>2</td>\n",
       "      <td>1</td>\n",
       "      <td>0.0</td>\n",
       "      <td>1</td>\n",
       "    </tr>\n",
       "    <tr>\n",
       "      <th>7</th>\n",
       "      <td>North America</td>\n",
       "      <td>8</td>\n",
       "      <td>Dev</td>\n",
       "      <td>9.24</td>\n",
       "      <td>527</td>\n",
       "      <td>4</td>\n",
       "      <td>7.0</td>\n",
       "      <td>4681</td>\n",
       "      <td>608</td>\n",
       "      <td>9</td>\n",
       "      <td>22.59</td>\n",
       "      <td>4.33</td>\n",
       "      <td>0</td>\n",
       "      <td>1</td>\n",
       "      <td>1</td>\n",
       "      <td>1</td>\n",
       "      <td>0.0</td>\n",
       "      <td>1</td>\n",
       "    </tr>\n",
       "    <tr>\n",
       "      <th>8</th>\n",
       "      <td>North America</td>\n",
       "      <td>9</td>\n",
       "      <td>Dev</td>\n",
       "      <td>2.48</td>\n",
       "      <td>764</td>\n",
       "      <td>60</td>\n",
       "      <td>6.0</td>\n",
       "      <td>5047</td>\n",
       "      <td>350</td>\n",
       "      <td>0</td>\n",
       "      <td>22.94</td>\n",
       "      <td>4.13</td>\n",
       "      <td>2</td>\n",
       "      <td>2</td>\n",
       "      <td>1</td>\n",
       "      <td>2</td>\n",
       "      <td>0.0</td>\n",
       "      <td>1</td>\n",
       "    </tr>\n",
       "    <tr>\n",
       "      <th>9</th>\n",
       "      <td>North America</td>\n",
       "      <td>10</td>\n",
       "      <td>Dev</td>\n",
       "      <td>39.52</td>\n",
       "      <td>742</td>\n",
       "      <td>-17</td>\n",
       "      <td>9.0</td>\n",
       "      <td>5208</td>\n",
       "      <td>1400</td>\n",
       "      <td>48</td>\n",
       "      <td>26.83</td>\n",
       "      <td>5.77</td>\n",
       "      <td>2</td>\n",
       "      <td>1</td>\n",
       "      <td>2</td>\n",
       "      <td>1</td>\n",
       "      <td>0.0</td>\n",
       "      <td>1</td>\n",
       "    </tr>\n",
       "  </tbody>\n",
       "</table>\n",
       "</div>"
      ],
      "text/plain": [
       "          Region  Project_Id Proj_Cat  Schedule_Overrun  NormProjSize  \\\n",
       "0  North America           1      Dev              2.48           862   \n",
       "1  North America           2      Dev              0.00           669   \n",
       "2  North America           3      Dev             -0.72           283   \n",
       "3  North America           4      Dev              4.96           803   \n",
       "4  North America           5      Dev             56.20          1340   \n",
       "5  North America           6      Dev             29.75           607   \n",
       "6  North America           7      Mod              4.04           253   \n",
       "7  North America           8      Dev              9.24           527   \n",
       "8  North America           9      Dev              2.48           764   \n",
       "9  North America          10      Dev             39.52           742   \n",
       "\n",
       "   Scope_Change  Team_Size  Developer_Hours  Customer_Hours  \\\n",
       "0             6        7.0             3528             512   \n",
       "1           -46        6.0             4259             135   \n",
       "2            53        4.9             2023              10   \n",
       "3           -10        5.0             3736             611   \n",
       "4            65        6.0             6000             660   \n",
       "5           -39        5.0             4148            1570   \n",
       "6           -59        6.0             2699             553   \n",
       "7             4        7.0             4681             608   \n",
       "8            60        6.0             5047             350   \n",
       "9           -17        9.0             5208            1400   \n",
       "\n",
       "   Post_release_defects  Productivity  Time_to_Market  Minimum_Viable_Product  \\\n",
       "0                    45         43.89            4.13                       0   \n",
       "1                     0         24.09            4.03                       1   \n",
       "2                     7         28.37            4.57                       2   \n",
       "3                    29         39.00            4.23                       2   \n",
       "4                     8         40.89            6.30                       2   \n",
       "5                    16         24.99            5.23                       2   \n",
       "6                     3         15.71            3.43                       2   \n",
       "7                     9         22.59            4.33                       0   \n",
       "8                     0         22.94            4.13                       2   \n",
       "9                    48         26.83            5.77                       2   \n",
       "\n",
       "   Saiv  Target_prototyping  Customer_on_Premise  Success  \\\n",
       "0     2                   2                    2      0.0   \n",
       "1     1                   1                    1      1.0   \n",
       "2     2                   2                    2      0.0   \n",
       "3     2                   2                    2      0.0   \n",
       "4     2                   1                    2      0.0   \n",
       "5     2                   1                    2      0.0   \n",
       "6     2                   2                    1      0.0   \n",
       "7     1                   1                    1      0.0   \n",
       "8     2                   1                    2      0.0   \n",
       "9     1                   2                    1      0.0   \n",
       "\n",
       "   High_customer_engagement  \n",
       "0                         1  \n",
       "1                         0  \n",
       "2                         0  \n",
       "3                         1  \n",
       "4                         1  \n",
       "5                         1  \n",
       "6                         1  \n",
       "7                         1  \n",
       "8                         1  \n",
       "9                         1  "
      ]
     },
     "execution_count": 12,
     "metadata": {},
     "output_type": "execute_result"
    }
   ],
   "source": [
    "df_projects.loc[(df_projects.Schedule_Overrun <= 0.00) & (df_projects.Post_release_defects <= 5.0), 'Success'] = 1\n",
    "df_projects.loc[(df_projects.Schedule_Overrun > 0.00) | (df_projects.Post_release_defects > 5.0), 'Success'] = 0\n",
    "df_projects['High_customer_engagement'] = np.where(df_projects['Customer_Hours']>=136.0, 1, 0)\n",
    "df_projects.head(10)"
   ]
  },
  {
   "cell_type": "markdown",
   "metadata": {},
   "source": [
    "We will next perform some basic multivariate regressions and logistic regressions and so on... after we identify KEY Independent and Dependent variables"
   ]
  },
  {
   "cell_type": "code",
   "execution_count": 13,
   "metadata": {},
   "outputs": [
    {
     "data": {
      "image/png": "[encoded data removed]",
      "text/plain": [
       "<Figure size 432x288 with 1 Axes>"
      ]
     },
     "metadata": {
      "needs_background": "light"
     },
     "output_type": "display_data"
    }
   ],
   "source": [
    "Customer_Hours = df_projects['Customer_Hours']\n",
    "Productivity = df_projects['Productivity']\n",
    "plt.scatter(Customer_Hours, Productivity, color = 'black', edgecolors='green')\n",
    "plt.xlabel('Extent of Customer Involvement')\n",
    "plt.ylabel('Productivity in software delivered per staff month')\n",
    "plt.title('Does Customer Time Spent Increase Productivity?')\n",
    "plt.show()"
   ]
  },
  {
   "cell_type": "code",
   "execution_count": 14,
   "metadata": {},
   "outputs": [
    {
     "data": {
      "image/png": "[encoded data removed]",
      "text/plain": [
       "<Figure size 432x288 with 1 Axes>"
      ]
     },
     "metadata": {
      "needs_background": "light"
     },
     "output_type": "display_data"
    }
   ],
   "source": [
    "Time_Box = df_projects['Saiv']\n",
    "Productivity = df_projects['Productivity']\n",
    "plt.scatter(Time_Box, Productivity, color ='red', edgecolors = 'black')\n",
    "plt.xlabel('Extent of Timeboxing')\n",
    "plt.ylabel('Productivity in software delivered per staff month')\n",
    "plt.title('Does Compressed schedule timeboxing affect Productivity?')\n",
    "plt.show()"
   ]
  },
  {
   "cell_type": "code",
   "execution_count": 42,
   "metadata": {},
   "outputs": [
    {
     "data": {
      "image/png": "[encoded data removed]",
      "text/plain": [
       "<Figure size 432x288 with 1 Axes>"
      ]
     },
     "metadata": {},
     "output_type": "display_data"
    }
   ],
   "source": [
    "Min_via_product = df_projects['Minimum_Viable_Product']\n",
    "Schedule_Overrun = df_projects['Schedule_Overrun']\n",
    "plt.scatter(Min_via_product, Schedule_Overrun, color ='brown', edgecolors = 'green')\n",
    "plt.xlabel('Extent of 80 20 Rule Usage for Product Features')\n",
    "plt.ylabel('Schedule Overruns')\n",
    "plt.title('Does 80_20 Rule affect Schedule Overruns?')\n",
    "plt.show()"
   ]
  },
  {
   "cell_type": "code",
   "execution_count": 43,
   "metadata": {},
   "outputs": [
    {
     "data": {
      "image/png": "[encoded data removed]",
      "text/plain": [
       "<Figure size 432x288 with 1 Axes>"
      ]
     },
     "metadata": {},
     "output_type": "display_data"
    }
   ],
   "source": [
    "plt.scatter(df_projects['Team_Size'], df_projects['Productivity'], color ='green', edgecolors = 'black')\n",
    "plt.xlabel('Team Size')\n",
    "plt.ylabel('Team Productivity')\n",
    "plt.title('Does Team Size affect Productivity?')\n",
    "plt.show()"
   ]
  },
  {
   "cell_type": "code",
   "execution_count": 27,
   "metadata": {},
   "outputs": [
    {
     "data": {
      "text/html": [
       "<div>\n",
       "<style scoped>\n",
       "    .dataframe tbody tr th:only-of-type {\n",
       "        vertical-align: middle;\n",
       "    }\n",
       "\n",
       "    .dataframe tbody tr th {\n",
       "        vertical-align: top;\n",
       "    }\n",
       "\n",
       "    .dataframe thead th {\n",
       "        text-align: right;\n",
       "    }\n",
       "</style>\n",
       "<table border=\"1\" class=\"dataframe\">\n",
       "  <thead>\n",
       "    <tr style=\"text-align: right;\">\n",
       "      <th></th>\n",
       "      <th>Proj_Cat</th>\n",
       "      <th>mean</th>\n",
       "    </tr>\n",
       "  </thead>\n",
       "  <tbody>\n",
       "    <tr>\n",
       "      <th>0</th>\n",
       "      <td>Dev</td>\n",
       "      <td>38.632740</td>\n",
       "    </tr>\n",
       "    <tr>\n",
       "      <th>1</th>\n",
       "      <td>Mod</td>\n",
       "      <td>29.910727</td>\n",
       "    </tr>\n",
       "  </tbody>\n",
       "</table>\n",
       "</div>"
      ],
      "text/plain": [
       "  Proj_Cat       mean\n",
       "0      Dev  38.632740\n",
       "1      Mod  29.910727"
      ]
     },
     "execution_count": 27,
     "metadata": {},
     "output_type": "execute_result"
    }
   ],
   "source": [
    "ProductivityChange_df = df_projects.groupby('Proj_Cat')[\"Productivity\"].agg([\"mean\"]).reset_index() \n",
    "ProductivityChange_df"
   ]
  },
  {
   "cell_type": "code",
   "execution_count": 45,
   "metadata": {},
   "outputs": [],
   "source": [
    "dev_projs = df_projects[(df_projects['Proj_Cat'] == 'Dev')]\n",
    "dev_projs.reset_index(inplace= True)\n",
    "\n",
    "mod_projs = df_projects[(df_projects['Proj_Cat'] == 'Mod')]\n",
    "mod_projs.reset_index(inplace= True)"
   ]
  },
  {
   "cell_type": "markdown",
   "metadata": {},
   "source": [
    "## Test for differences across Project Types\n",
    "A Levene's test can help find if the Productivity measure across the development projects subset and modification projects subset shows similar variance. The null hypothesis being tested is that the variance of the measure is equal in both sub-samples. Full documentation can be found here:\n",
    "https://docs.scipy.org/doc/scipy-0.14.0/reference/generated/scipy.stats.levene.html"
   ]
  },
  {
   "cell_type": "code",
   "execution_count": 46,
   "metadata": {},
   "outputs": [
    {
     "data": {
      "text/plain": [
       "LeveneResult(statistic=2.2011098113885588, pvalue=0.13873600274618306)"
      ]
     },
     "execution_count": 46,
     "metadata": {},
     "output_type": "execute_result"
    }
   ],
   "source": [
    "from scipy import stats\n",
    "stats.levene(dev_projs['Productivity'], mod_projs['Productivity'])"
   ]
  },
  {
   "cell_type": "code",
   "execution_count": 47,
   "metadata": {},
   "outputs": [
    {
     "data": {
      "text/plain": [
       "Ttest_indResult(statistic=2.782367823165077, pvalue=0.0056641511626341024)"
      ]
     },
     "execution_count": 47,
     "metadata": {},
     "output_type": "execute_result"
    }
   ],
   "source": [
    "stats.ttest_ind(dev_projs['Productivity'], mod_projs['Productivity'])"
   ]
  },
  {
   "cell_type": "code",
   "execution_count": 48,
   "metadata": {},
   "outputs": [
    {
     "data": {
      "text/plain": [
       "Ttest_indResult(statistic=2.944119048444805, pvalue=0.0034404083057641963)"
      ]
     },
     "execution_count": 48,
     "metadata": {},
     "output_type": "execute_result"
    }
   ],
   "source": [
    "stats.ttest_ind(dev_projs['Productivity'],mod_projs['Productivity'], equal_var=False)"
   ]
  },
  {
   "cell_type": "markdown",
   "metadata": {},
   "source": [
    "# Let us next explore Multiple Regressions and examine if there are other factors that can explain and predict productivity"
   ]
  },
  {
   "cell_type": "markdown",
   "metadata": {},
   "source": [
    "## Productivity \n",
    "\n",
    "### Data Preparation\n",
    "From the correlation table, let us select distinct measures that seem to affect Productivity"
   ]
  },
  {
   "cell_type": "code",
   "execution_count": 32,
   "metadata": {},
   "outputs": [],
   "source": [
    "Productivity_DataX = df_projects[['Proj_Cat','NormProjSize','Scope_Change','Target_prototyping','Team_Size']]"
   ]
  },
  {
   "cell_type": "code",
   "execution_count": 33,
   "metadata": {},
   "outputs": [
    {
     "data": {
      "text/html": [
       "<div>\n",
       "<style scoped>\n",
       "    .dataframe tbody tr th:only-of-type {\n",
       "        vertical-align: middle;\n",
       "    }\n",
       "\n",
       "    .dataframe tbody tr th {\n",
       "        vertical-align: top;\n",
       "    }\n",
       "\n",
       "    .dataframe thead th {\n",
       "        text-align: right;\n",
       "    }\n",
       "</style>\n",
       "<table border=\"1\" class=\"dataframe\">\n",
       "  <thead>\n",
       "    <tr style=\"text-align: right;\">\n",
       "      <th></th>\n",
       "      <th>Proj_Cat</th>\n",
       "      <th>NormProjSize</th>\n",
       "      <th>Scope_Change</th>\n",
       "      <th>Target_prototyping</th>\n",
       "      <th>Team_Size</th>\n",
       "    </tr>\n",
       "  </thead>\n",
       "  <tbody>\n",
       "    <tr>\n",
       "      <th>0</th>\n",
       "      <td>Dev</td>\n",
       "      <td>862</td>\n",
       "      <td>6</td>\n",
       "      <td>2</td>\n",
       "      <td>7.0</td>\n",
       "    </tr>\n",
       "    <tr>\n",
       "      <th>1</th>\n",
       "      <td>Dev</td>\n",
       "      <td>669</td>\n",
       "      <td>-46</td>\n",
       "      <td>1</td>\n",
       "      <td>6.0</td>\n",
       "    </tr>\n",
       "    <tr>\n",
       "      <th>2</th>\n",
       "      <td>Dev</td>\n",
       "      <td>283</td>\n",
       "      <td>53</td>\n",
       "      <td>2</td>\n",
       "      <td>4.9</td>\n",
       "    </tr>\n",
       "    <tr>\n",
       "      <th>3</th>\n",
       "      <td>Dev</td>\n",
       "      <td>803</td>\n",
       "      <td>-10</td>\n",
       "      <td>2</td>\n",
       "      <td>5.0</td>\n",
       "    </tr>\n",
       "    <tr>\n",
       "      <th>4</th>\n",
       "      <td>Dev</td>\n",
       "      <td>1340</td>\n",
       "      <td>65</td>\n",
       "      <td>1</td>\n",
       "      <td>6.0</td>\n",
       "    </tr>\n",
       "  </tbody>\n",
       "</table>\n",
       "</div>"
      ],
      "text/plain": [
       "  Proj_Cat  NormProjSize  Scope_Change  Target_prototyping  Team_Size\n",
       "0      Dev           862             6                   2        7.0\n",
       "1      Dev           669           -46                   1        6.0\n",
       "2      Dev           283            53                   2        4.9\n",
       "3      Dev           803           -10                   2        5.0\n",
       "4      Dev          1340            65                   1        6.0"
      ]
     },
     "execution_count": 33,
     "metadata": {},
     "output_type": "execute_result"
    }
   ],
   "source": [
    "Productivity_DataX.head()"
   ]
  },
  {
   "cell_type": "markdown",
   "metadata": {},
   "source": [
    "Since the Project Category variables (Proj_Cat variable) is categorical, let us create dummy variables using the Pandas .get_dummies() function"
   ]
  },
  {
   "cell_type": "code",
   "execution_count": 34,
   "metadata": {},
   "outputs": [
    {
     "data": {
      "text/html": [
       "<div>\n",
       "<style scoped>\n",
       "    .dataframe tbody tr th:only-of-type {\n",
       "        vertical-align: middle;\n",
       "    }\n",
       "\n",
       "    .dataframe tbody tr th {\n",
       "        vertical-align: top;\n",
       "    }\n",
       "\n",
       "    .dataframe thead th {\n",
       "        text-align: right;\n",
       "    }\n",
       "</style>\n",
       "<table border=\"1\" class=\"dataframe\">\n",
       "  <thead>\n",
       "    <tr style=\"text-align: right;\">\n",
       "      <th></th>\n",
       "      <th>NormProjSize</th>\n",
       "      <th>Scope_Change</th>\n",
       "      <th>Target_prototyping</th>\n",
       "      <th>Team_Size</th>\n",
       "      <th>Proj_Cat_Dev</th>\n",
       "      <th>Proj_Cat_Mod</th>\n",
       "    </tr>\n",
       "  </thead>\n",
       "  <tbody>\n",
       "    <tr>\n",
       "      <th>379</th>\n",
       "      <td>741</td>\n",
       "      <td>-9</td>\n",
       "      <td>2</td>\n",
       "      <td>7.0</td>\n",
       "      <td>1</td>\n",
       "      <td>0</td>\n",
       "    </tr>\n",
       "    <tr>\n",
       "      <th>380</th>\n",
       "      <td>68</td>\n",
       "      <td>4</td>\n",
       "      <td>0</td>\n",
       "      <td>4.0</td>\n",
       "      <td>1</td>\n",
       "      <td>0</td>\n",
       "    </tr>\n",
       "    <tr>\n",
       "      <th>381</th>\n",
       "      <td>722</td>\n",
       "      <td>0</td>\n",
       "      <td>2</td>\n",
       "      <td>7.5</td>\n",
       "      <td>1</td>\n",
       "      <td>0</td>\n",
       "    </tr>\n",
       "    <tr>\n",
       "      <th>382</th>\n",
       "      <td>590</td>\n",
       "      <td>0</td>\n",
       "      <td>2</td>\n",
       "      <td>4.1</td>\n",
       "      <td>1</td>\n",
       "      <td>0</td>\n",
       "    </tr>\n",
       "    <tr>\n",
       "      <th>383</th>\n",
       "      <td>841</td>\n",
       "      <td>0</td>\n",
       "      <td>2</td>\n",
       "      <td>7.5</td>\n",
       "      <td>1</td>\n",
       "      <td>0</td>\n",
       "    </tr>\n",
       "  </tbody>\n",
       "</table>\n",
       "</div>"
      ],
      "text/plain": [
       "     NormProjSize  Scope_Change  Target_prototyping  Team_Size  Proj_Cat_Dev  \\\n",
       "379           741            -9                   2        7.0             1   \n",
       "380            68             4                   0        4.0             1   \n",
       "381           722             0                   2        7.5             1   \n",
       "382           590             0                   2        4.1             1   \n",
       "383           841             0                   2        7.5             1   \n",
       "\n",
       "     Proj_Cat_Mod  \n",
       "379             0  \n",
       "380             0  \n",
       "381             0  \n",
       "382             0  \n",
       "383             0  "
      ]
     },
     "execution_count": 34,
     "metadata": {},
     "output_type": "execute_result"
    }
   ],
   "source": [
    "Productivity_DataX = pd.get_dummies(Productivity_DataX)\n",
    "Productivity_DataX.tail()"
   ]
  },
  {
   "cell_type": "markdown",
   "metadata": {},
   "source": [
    "The output variable can be stored in a separate dataset. This split will be useful as we later explore Data set splitting into Training and Testing subsets"
   ]
  },
  {
   "cell_type": "code",
   "execution_count": 35,
   "metadata": {},
   "outputs": [],
   "source": [
    "Productivity_DataY = df_projects[['Productivity']]"
   ]
  },
  {
   "cell_type": "code",
   "execution_count": 36,
   "metadata": {},
   "outputs": [
    {
     "data": {
      "text/html": [
       "<div>\n",
       "<style scoped>\n",
       "    .dataframe tbody tr th:only-of-type {\n",
       "        vertical-align: middle;\n",
       "    }\n",
       "\n",
       "    .dataframe tbody tr th {\n",
       "        vertical-align: top;\n",
       "    }\n",
       "\n",
       "    .dataframe thead th {\n",
       "        text-align: right;\n",
       "    }\n",
       "</style>\n",
       "<table border=\"1\" class=\"dataframe\">\n",
       "  <thead>\n",
       "    <tr style=\"text-align: right;\">\n",
       "      <th></th>\n",
       "      <th>Productivity</th>\n",
       "    </tr>\n",
       "  </thead>\n",
       "  <tbody>\n",
       "    <tr>\n",
       "      <th>0</th>\n",
       "      <td>43.89</td>\n",
       "    </tr>\n",
       "    <tr>\n",
       "      <th>1</th>\n",
       "      <td>24.09</td>\n",
       "    </tr>\n",
       "    <tr>\n",
       "      <th>2</th>\n",
       "      <td>28.37</td>\n",
       "    </tr>\n",
       "    <tr>\n",
       "      <th>3</th>\n",
       "      <td>39.00</td>\n",
       "    </tr>\n",
       "    <tr>\n",
       "      <th>4</th>\n",
       "      <td>40.89</td>\n",
       "    </tr>\n",
       "  </tbody>\n",
       "</table>\n",
       "</div>"
      ],
      "text/plain": [
       "   Productivity\n",
       "0         43.89\n",
       "1         24.09\n",
       "2         28.37\n",
       "3         39.00\n",
       "4         40.89"
      ]
     },
     "execution_count": 36,
     "metadata": {},
     "output_type": "execute_result"
    }
   ],
   "source": [
    "Productivity_DataY.head()"
   ]
  },
  {
   "cell_type": "markdown",
   "metadata": {},
   "source": [
    "## Time to market\n",
    "\n",
    "### Data Preparation\n",
    "Let us repeat the same procedure for the Time to market... To start with let us use some factors that explain time to market"
   ]
  },
  {
   "cell_type": "code",
   "execution_count": 57,
   "metadata": {},
   "outputs": [],
   "source": [
    "Time_to_Market_DataX = df_projects[['Proj_Cat','Team_Size','Saiv','Customer_on_Premise','Target_prototyping']]\n",
    "Time_to_Market_DataX = pd.get_dummies(Time_to_Market_DataX)"
   ]
  },
  {
   "cell_type": "code",
   "execution_count": 55,
   "metadata": {},
   "outputs": [
    {
     "data": {
      "text/html": [
       "<div>\n",
       "<style scoped>\n",
       "    .dataframe tbody tr th:only-of-type {\n",
       "        vertical-align: middle;\n",
       "    }\n",
       "\n",
       "    .dataframe tbody tr th {\n",
       "        vertical-align: top;\n",
       "    }\n",
       "\n",
       "    .dataframe thead th {\n",
       "        text-align: right;\n",
       "    }\n",
       "</style>\n",
       "<table border=\"1\" class=\"dataframe\">\n",
       "  <thead>\n",
       "    <tr style=\"text-align: right;\">\n",
       "      <th></th>\n",
       "      <th>Team_Size</th>\n",
       "      <th>Saiv</th>\n",
       "      <th>Customer_on_Premise</th>\n",
       "      <th>Target_prototyping</th>\n",
       "      <th>Proj_Cat_Dev</th>\n",
       "      <th>Proj_Cat_Mod</th>\n",
       "    </tr>\n",
       "  </thead>\n",
       "  <tbody>\n",
       "    <tr>\n",
       "      <th>0</th>\n",
       "      <td>7.0</td>\n",
       "      <td>2</td>\n",
       "      <td>2</td>\n",
       "      <td>2</td>\n",
       "      <td>1</td>\n",
       "      <td>0</td>\n",
       "    </tr>\n",
       "    <tr>\n",
       "      <th>1</th>\n",
       "      <td>6.0</td>\n",
       "      <td>1</td>\n",
       "      <td>1</td>\n",
       "      <td>1</td>\n",
       "      <td>1</td>\n",
       "      <td>0</td>\n",
       "    </tr>\n",
       "    <tr>\n",
       "      <th>2</th>\n",
       "      <td>4.9</td>\n",
       "      <td>2</td>\n",
       "      <td>2</td>\n",
       "      <td>2</td>\n",
       "      <td>1</td>\n",
       "      <td>0</td>\n",
       "    </tr>\n",
       "    <tr>\n",
       "      <th>3</th>\n",
       "      <td>5.0</td>\n",
       "      <td>2</td>\n",
       "      <td>2</td>\n",
       "      <td>2</td>\n",
       "      <td>1</td>\n",
       "      <td>0</td>\n",
       "    </tr>\n",
       "    <tr>\n",
       "      <th>4</th>\n",
       "      <td>6.0</td>\n",
       "      <td>2</td>\n",
       "      <td>2</td>\n",
       "      <td>1</td>\n",
       "      <td>1</td>\n",
       "      <td>0</td>\n",
       "    </tr>\n",
       "  </tbody>\n",
       "</table>\n",
       "</div>"
      ],
      "text/plain": [
       "   Team_Size  Saiv  Customer_on_Premise  Target_prototyping  Proj_Cat_Dev  \\\n",
       "0        7.0     2                    2                   2             1   \n",
       "1        6.0     1                    1                   1             1   \n",
       "2        4.9     2                    2                   2             1   \n",
       "3        5.0     2                    2                   2             1   \n",
       "4        6.0     2                    2                   1             1   \n",
       "\n",
       "   Proj_Cat_Mod  \n",
       "0             0  \n",
       "1             0  \n",
       "2             0  \n",
       "3             0  \n",
       "4             0  "
      ]
     },
     "execution_count": 55,
     "metadata": {},
     "output_type": "execute_result"
    }
   ],
   "source": [
    "Time_to_Market_DataX.head()"
   ]
  },
  {
   "cell_type": "code",
   "execution_count": 29,
   "metadata": {},
   "outputs": [],
   "source": [
    "Time_to_Market_DataY = df_projects[['Time_to_Market']]"
   ]
  },
  {
   "cell_type": "code",
   "execution_count": 30,
   "metadata": {},
   "outputs": [
    {
     "data": {
      "text/html": [
       "<div>\n",
       "<style scoped>\n",
       "    .dataframe tbody tr th:only-of-type {\n",
       "        vertical-align: middle;\n",
       "    }\n",
       "\n",
       "    .dataframe tbody tr th {\n",
       "        vertical-align: top;\n",
       "    }\n",
       "\n",
       "    .dataframe thead th {\n",
       "        text-align: right;\n",
       "    }\n",
       "</style>\n",
       "<table border=\"1\" class=\"dataframe\">\n",
       "  <thead>\n",
       "    <tr style=\"text-align: right;\">\n",
       "      <th></th>\n",
       "      <th>Time_to_Market</th>\n",
       "    </tr>\n",
       "  </thead>\n",
       "  <tbody>\n",
       "    <tr>\n",
       "      <th>0</th>\n",
       "      <td>4.13</td>\n",
       "    </tr>\n",
       "    <tr>\n",
       "      <th>1</th>\n",
       "      <td>4.03</td>\n",
       "    </tr>\n",
       "    <tr>\n",
       "      <th>2</th>\n",
       "      <td>4.57</td>\n",
       "    </tr>\n",
       "    <tr>\n",
       "      <th>3</th>\n",
       "      <td>4.23</td>\n",
       "    </tr>\n",
       "    <tr>\n",
       "      <th>4</th>\n",
       "      <td>6.30</td>\n",
       "    </tr>\n",
       "  </tbody>\n",
       "</table>\n",
       "</div>"
      ],
      "text/plain": [
       "   Time_to_Market\n",
       "0            4.13\n",
       "1            4.03\n",
       "2            4.57\n",
       "3            4.23\n",
       "4            6.30"
      ]
     },
     "execution_count": 30,
     "metadata": {},
     "output_type": "execute_result"
    }
   ],
   "source": [
    "Time_to_Market_DataY.head()"
   ]
  },
  {
   "cell_type": "markdown",
   "metadata": {},
   "source": [
    "# Scipy's Stats library and statsmodels libraries\n",
    "These libraries are for running a linear regression model (ordinary least squares) in our case"
   ]
  },
  {
   "cell_type": "code",
   "execution_count": 37,
   "metadata": {
    "scrolled": true
   },
   "outputs": [],
   "source": [
    "\n",
    "import statsmodels.formula.api as smf\n",
    "from scipy import stats\n"
   ]
  },
  {
   "cell_type": "markdown",
   "metadata": {},
   "source": [
    "First pass at a Multiple Regression Model for Developer Productivity"
   ]
  },
  {
   "cell_type": "code",
   "execution_count": 39,
   "metadata": {},
   "outputs": [
    {
     "data": {
      "text/html": [
       "<table class=\"simpletable\">\n",
       "<caption>OLS Regression Results</caption>\n",
       "<tr>\n",
       "  <th>Dep. Variable:</th>      <td>Productivity</td>   <th>  R-squared:         </th> <td>   0.379</td>\n",
       "</tr>\n",
       "<tr>\n",
       "  <th>Model:</th>                   <td>OLS</td>       <th>  Adj. R-squared:    </th> <td>   0.373</td>\n",
       "</tr>\n",
       "<tr>\n",
       "  <th>Method:</th>             <td>Least Squares</td>  <th>  F-statistic:       </th> <td>   57.89</td>\n",
       "</tr>\n",
       "<tr>\n",
       "  <th>Date:</th>             <td>Tue, 12 Oct 2021</td> <th>  Prob (F-statistic):</th> <td>4.18e-38</td>\n",
       "</tr>\n",
       "<tr>\n",
       "  <th>Time:</th>                 <td>18:17:53</td>     <th>  Log-Likelihood:    </th> <td> -1767.4</td>\n",
       "</tr>\n",
       "<tr>\n",
       "  <th>No. Observations:</th>      <td>   384</td>      <th>  AIC:               </th> <td>   3545.</td>\n",
       "</tr>\n",
       "<tr>\n",
       "  <th>Df Residuals:</th>          <td>   379</td>      <th>  BIC:               </th> <td>   3565.</td>\n",
       "</tr>\n",
       "<tr>\n",
       "  <th>Df Model:</th>              <td>     4</td>      <th>                     </th>     <td> </td>   \n",
       "</tr>\n",
       "<tr>\n",
       "  <th>Covariance Type:</th>      <td>nonrobust</td>    <th>                     </th>     <td> </td>   \n",
       "</tr>\n",
       "</table>\n",
       "<table class=\"simpletable\">\n",
       "<tr>\n",
       "           <td></td>             <th>coef</th>     <th>std err</th>      <th>t</th>      <th>P>|t|</th>  <th>[0.025</th>    <th>0.975]</th>  \n",
       "</tr>\n",
       "<tr>\n",
       "  <th>Intercept</th>          <td>   29.2435</td> <td>    2.824</td> <td>   10.356</td> <td> 0.000</td> <td>   23.691</td> <td>   34.796</td>\n",
       "</tr>\n",
       "<tr>\n",
       "  <th>NormProjSize</th>       <td>    0.0251</td> <td>    0.002</td> <td>   10.330</td> <td> 0.000</td> <td>    0.020</td> <td>    0.030</td>\n",
       "</tr>\n",
       "<tr>\n",
       "  <th>Team_Size</th>          <td>   -2.6216</td> <td>    0.292</td> <td>   -8.984</td> <td> 0.000</td> <td>   -3.195</td> <td>   -2.048</td>\n",
       "</tr>\n",
       "<tr>\n",
       "  <th>Scope_Change</th>       <td>    0.0363</td> <td>    0.013</td> <td>    2.705</td> <td> 0.007</td> <td>    0.010</td> <td>    0.063</td>\n",
       "</tr>\n",
       "<tr>\n",
       "  <th>Target_prototyping</th> <td>    6.9320</td> <td>    1.582</td> <td>    4.383</td> <td> 0.000</td> <td>    3.822</td> <td>   10.042</td>\n",
       "</tr>\n",
       "</table>\n",
       "<table class=\"simpletable\">\n",
       "<tr>\n",
       "  <th>Omnibus:</th>       <td>219.540</td> <th>  Durbin-Watson:     </th> <td>   1.941</td>\n",
       "</tr>\n",
       "<tr>\n",
       "  <th>Prob(Omnibus):</th> <td> 0.000</td>  <th>  Jarque-Bera (JB):  </th> <td>2499.096</td>\n",
       "</tr>\n",
       "<tr>\n",
       "  <th>Skew:</th>          <td> 2.185</td>  <th>  Prob(JB):          </th> <td>    0.00</td>\n",
       "</tr>\n",
       "<tr>\n",
       "  <th>Kurtosis:</th>      <td>14.709</td>  <th>  Cond. No.          </th> <td>2.05e+03</td>\n",
       "</tr>\n",
       "</table><br/><br/>Notes:<br/>[1] Standard Errors assume that the covariance matrix of the errors is correctly specified.<br/>[2] The condition number is large, 2.05e+03. This might indicate that there are<br/>strong multicollinearity or other numerical problems."
      ],
      "text/plain": [
       "<class 'statsmodels.iolib.summary.Summary'>\n",
       "\"\"\"\n",
       "                            OLS Regression Results                            \n",
       "==============================================================================\n",
       "Dep. Variable:           Productivity   R-squared:                       0.379\n",
       "Model:                            OLS   Adj. R-squared:                  0.373\n",
       "Method:                 Least Squares   F-statistic:                     57.89\n",
       "Date:                Tue, 12 Oct 2021   Prob (F-statistic):           4.18e-38\n",
       "Time:                        18:17:53   Log-Likelihood:                -1767.4\n",
       "No. Observations:                 384   AIC:                             3545.\n",
       "Df Residuals:                     379   BIC:                             3565.\n",
       "Df Model:                           4                                         \n",
       "Covariance Type:            nonrobust                                         \n",
       "======================================================================================\n",
       "                         coef    std err          t      P>|t|      [0.025      0.975]\n",
       "--------------------------------------------------------------------------------------\n",
       "Intercept             29.2435      2.824     10.356      0.000      23.691      34.796\n",
       "NormProjSize           0.0251      0.002     10.330      0.000       0.020       0.030\n",
       "Team_Size             -2.6216      0.292     -8.984      0.000      -3.195      -2.048\n",
       "Scope_Change           0.0363      0.013      2.705      0.007       0.010       0.063\n",
       "Target_prototyping     6.9320      1.582      4.383      0.000       3.822      10.042\n",
       "==============================================================================\n",
       "Omnibus:                      219.540   Durbin-Watson:                   1.941\n",
       "Prob(Omnibus):                  0.000   Jarque-Bera (JB):             2499.096\n",
       "Skew:                           2.185   Prob(JB):                         0.00\n",
       "Kurtosis:                      14.709   Cond. No.                     2.05e+03\n",
       "==============================================================================\n",
       "\n",
       "Notes:\n",
       "[1] Standard Errors assume that the covariance matrix of the errors is correctly specified.\n",
       "[2] The condition number is large, 2.05e+03. This might indicate that there are\n",
       "strong multicollinearity or other numerical problems.\n",
       "\"\"\""
      ]
     },
     "execution_count": 39,
     "metadata": {},
     "output_type": "execute_result"
    }
   ],
   "source": [
    "\n",
    "prod_model = smf.ols(\"Productivity ~ NormProjSize + Team_Size + Scope_Change + Target_prototyping\", data= df_projects).fit()\n",
    "\n",
    "prod_model.summary()"
   ]
  },
  {
   "cell_type": "code",
   "execution_count": 51,
   "metadata": {},
   "outputs": [
    {
     "data": {
      "text/plain": [
       "Text(0.5, 1.0, 'Model 2 Residuals Probability Plot')"
      ]
     },
     "execution_count": 51,
     "metadata": {},
     "output_type": "execute_result"
    },
    {
     "data": {
      "image/png": "[encoded data removed]",
      "text/plain": [
       "<Figure size 432x288 with 1 Axes>"
      ]
     },
     "metadata": {},
     "output_type": "display_data"
    }
   ],
   "source": [
    "stats.probplot(prod_model.resid, plot= plt)\n",
    "plt.title(\"Model 2 Residuals Probability Plot\")"
   ]
  },
  {
   "cell_type": "code",
   "execution_count": 52,
   "metadata": {},
   "outputs": [
    {
     "data": {
      "image/png": "[encoded data removed]",
      "text/plain": [
       "<Figure size 864x576 with 1 Axes>"
      ]
     },
     "metadata": {},
     "output_type": "display_data"
    }
   ],
   "source": [
    "import statsmodels.api as sm\n",
    "import matplotlib.pyplot as plt2\n",
    "fig, ax = plt2.subplots(figsize=(12,8))\n",
    "fig = sm.graphics.plot_partregress(\"Productivity\", \"Target_prototyping\",[], data= df_projects, ax=ax)"
   ]
  },
  {
   "cell_type": "markdown",
   "metadata": {},
   "source": [
    "Lots of statistics and coefficients to examine in the Table above. I would, at a minimum, pay attention to:\n",
    "the coefficients, Adjusted R-squared, Overall model P-value, Variable Significances... and any diagnostic error that pops up..."
   ]
  },
  {
   "cell_type": "markdown",
   "metadata": {},
   "source": [
    "Testing whether the linear model residuals (predicted vs. actual) show any red flags..."
   ]
  },
  {
   "cell_type": "markdown",
   "metadata": {},
   "source": [
    "Multiple regression (OLS here) assumes that the residual values (observed minus predicted values) are normally distributed, and that the regression function (the relationship between the independent and dependent variables) is linear in nature."
   ]
  },
  {
   "cell_type": "markdown",
   "metadata": {},
   "source": [
    "### Repeating a similar procedure for modeling Time to market"
   ]
  },
  {
   "cell_type": "code",
   "execution_count": 53,
   "metadata": {},
   "outputs": [
    {
     "data": {
      "text/html": [
       "<table class=\"simpletable\">\n",
       "<caption>OLS Regression Results</caption>\n",
       "<tr>\n",
       "  <th>Dep. Variable:</th>     <td>Time_to_Market</td>  <th>  R-squared:         </th> <td>   0.205</td>\n",
       "</tr>\n",
       "<tr>\n",
       "  <th>Model:</th>                   <td>OLS</td>       <th>  Adj. R-squared:    </th> <td>   0.195</td>\n",
       "</tr>\n",
       "<tr>\n",
       "  <th>Method:</th>             <td>Least Squares</td>  <th>  F-statistic:       </th> <td>   19.55</td>\n",
       "</tr>\n",
       "<tr>\n",
       "  <th>Date:</th>             <td>Tue, 05 Oct 2021</td> <th>  Prob (F-statistic):</th> <td>2.49e-17</td>\n",
       "</tr>\n",
       "<tr>\n",
       "  <th>Time:</th>                 <td>15:40:35</td>     <th>  Log-Likelihood:    </th> <td> -864.51</td>\n",
       "</tr>\n",
       "<tr>\n",
       "  <th>No. Observations:</th>      <td>   384</td>      <th>  AIC:               </th> <td>   1741.</td>\n",
       "</tr>\n",
       "<tr>\n",
       "  <th>Df Residuals:</th>          <td>   378</td>      <th>  BIC:               </th> <td>   1765.</td>\n",
       "</tr>\n",
       "<tr>\n",
       "  <th>Df Model:</th>              <td>     5</td>      <th>                     </th>     <td> </td>   \n",
       "</tr>\n",
       "<tr>\n",
       "  <th>Covariance Type:</th>      <td>nonrobust</td>    <th>                     </th>     <td> </td>   \n",
       "</tr>\n",
       "</table>\n",
       "<table class=\"simpletable\">\n",
       "<tr>\n",
       "           <td></td>              <th>coef</th>     <th>std err</th>      <th>t</th>      <th>P>|t|</th>  <th>[0.025</th>    <th>0.975]</th>  \n",
       "</tr>\n",
       "<tr>\n",
       "  <th>Intercept</th>           <td>    3.8806</td> <td>    0.433</td> <td>    8.958</td> <td> 0.000</td> <td>    3.029</td> <td>    4.732</td>\n",
       "</tr>\n",
       "<tr>\n",
       "  <th>Proj_Cat[T.Mod]</th>     <td>   -0.8584</td> <td>    0.242</td> <td>   -3.547</td> <td> 0.000</td> <td>   -1.334</td> <td>   -0.382</td>\n",
       "</tr>\n",
       "<tr>\n",
       "  <th>Team_Size</th>           <td>    0.1961</td> <td>    0.026</td> <td>    7.642</td> <td> 0.000</td> <td>    0.146</td> <td>    0.247</td>\n",
       "</tr>\n",
       "<tr>\n",
       "  <th>Saiv</th>                <td>   -0.5728</td> <td>    0.187</td> <td>   -3.071</td> <td> 0.002</td> <td>   -0.940</td> <td>   -0.206</td>\n",
       "</tr>\n",
       "<tr>\n",
       "  <th>Customer_on_Premise</th> <td>    0.3797</td> <td>    0.177</td> <td>    2.142</td> <td> 0.033</td> <td>    0.031</td> <td>    0.728</td>\n",
       "</tr>\n",
       "<tr>\n",
       "  <th>Target_prototyping</th>  <td>   -0.2110</td> <td>    0.154</td> <td>   -1.370</td> <td> 0.171</td> <td>   -0.514</td> <td>    0.092</td>\n",
       "</tr>\n",
       "</table>\n",
       "<table class=\"simpletable\">\n",
       "<tr>\n",
       "  <th>Omnibus:</th>       <td>150.876</td> <th>  Durbin-Watson:     </th> <td>   1.847</td> \n",
       "</tr>\n",
       "<tr>\n",
       "  <th>Prob(Omnibus):</th> <td> 0.000</td>  <th>  Jarque-Bera (JB):  </th> <td> 622.366</td> \n",
       "</tr>\n",
       "<tr>\n",
       "  <th>Skew:</th>          <td> 1.700</td>  <th>  Prob(JB):          </th> <td>7.16e-136</td>\n",
       "</tr>\n",
       "<tr>\n",
       "  <th>Kurtosis:</th>      <td> 8.228</td>  <th>  Cond. No.          </th> <td>    33.5</td> \n",
       "</tr>\n",
       "</table><br/><br/>Notes:<br/>[1] Standard Errors assume that the covariance matrix of the errors is correctly specified."
      ],
      "text/plain": [
       "<class 'statsmodels.iolib.summary.Summary'>\n",
       "\"\"\"\n",
       "                            OLS Regression Results                            \n",
       "==============================================================================\n",
       "Dep. Variable:         Time_to_Market   R-squared:                       0.205\n",
       "Model:                            OLS   Adj. R-squared:                  0.195\n",
       "Method:                 Least Squares   F-statistic:                     19.55\n",
       "Date:                Tue, 05 Oct 2021   Prob (F-statistic):           2.49e-17\n",
       "Time:                        15:40:35   Log-Likelihood:                -864.51\n",
       "No. Observations:                 384   AIC:                             1741.\n",
       "Df Residuals:                     378   BIC:                             1765.\n",
       "Df Model:                           5                                         \n",
       "Covariance Type:            nonrobust                                         \n",
       "=======================================================================================\n",
       "                          coef    std err          t      P>|t|      [0.025      0.975]\n",
       "---------------------------------------------------------------------------------------\n",
       "Intercept               3.8806      0.433      8.958      0.000       3.029       4.732\n",
       "Proj_Cat[T.Mod]        -0.8584      0.242     -3.547      0.000      -1.334      -0.382\n",
       "Team_Size               0.1961      0.026      7.642      0.000       0.146       0.247\n",
       "Saiv                   -0.5728      0.187     -3.071      0.002      -0.940      -0.206\n",
       "Customer_on_Premise     0.3797      0.177      2.142      0.033       0.031       0.728\n",
       "Target_prototyping     -0.2110      0.154     -1.370      0.171      -0.514       0.092\n",
       "==============================================================================\n",
       "Omnibus:                      150.876   Durbin-Watson:                   1.847\n",
       "Prob(Omnibus):                  0.000   Jarque-Bera (JB):              622.366\n",
       "Skew:                           1.700   Prob(JB):                    7.16e-136\n",
       "Kurtosis:                       8.228   Cond. No.                         33.5\n",
       "==============================================================================\n",
       "\n",
       "Notes:\n",
       "[1] Standard Errors assume that the covariance matrix of the errors is correctly specified.\n",
       "\"\"\""
      ]
     },
     "execution_count": 53,
     "metadata": {},
     "output_type": "execute_result"
    }
   ],
   "source": [
    "tmkt_model = smf.ols(\"Time_to_Market ~ Proj_Cat + Team_Size + Saiv + Customer_on_Premise + Target_prototyping\", data= df_projects).fit()\n",
    " \n",
    "tmkt_model.summary()"
   ]
  },
  {
   "cell_type": "code",
   "execution_count": 36,
   "metadata": {},
   "outputs": [
    {
     "data": {
      "text/plain": [
       "Text(0.5, 1.0, 'Model 1 Residuals Probability Plot')"
      ]
     },
     "execution_count": 36,
     "metadata": {},
     "output_type": "execute_result"
    },
    {
     "data": {
      "image/png": "[encoded data removed]",
      "text/plain": [
       "<Figure size 432x288 with 1 Axes>"
      ]
     },
     "metadata": {
      "needs_background": "light"
     },
     "output_type": "display_data"
    }
   ],
   "source": [
    "stats.probplot(tmkt_model.resid, plot= plt)\n",
    "plt.title(\"Model 1 Residuals Probability Plot\")"
   ]
  },
  {
   "cell_type": "markdown",
   "metadata": {},
   "source": [
    "\n",
    "# Next, we are going to be running a predictive model. \n",
    "\n",
    "## Further, we will be using the scikit-learn library - LinearRegression in the process instead of the statsmodel library\n",
    "\n",
    "https://scikit-learn.org/stable/user_guide.html"
   ]
  },
  {
   "cell_type": "markdown",
   "metadata": {},
   "source": [
    "## Split the dataset into Training and Testing Subset\n",
    "\n",
    "First let us split the data set into Training dataset and Testing dataset. You can choose how much percent of the data you want as Training subset and how much you want for Testing, by tweaking the test_size parameter"
   ]
  },
  {
   "cell_type": "code",
   "execution_count": 64,
   "metadata": {},
   "outputs": [],
   "source": [
    "from sklearn.model_selection import train_test_split  \n",
    "PX_train, PX_test, Py_train, Py_test = train_test_split(Productivity_DataX, Productivity_DataY, test_size=0.3, random_state=0)  "
   ]
  },
  {
   "cell_type": "markdown",
   "metadata": {},
   "source": [
    "Procedure is very straightforward like last time..."
   ]
  },
  {
   "cell_type": "code",
   "execution_count": 65,
   "metadata": {},
   "outputs": [
    {
     "data": {
      "text/plain": [
       "LinearRegression()"
      ]
     },
     "execution_count": 65,
     "metadata": {},
     "output_type": "execute_result"
    }
   ],
   "source": [
    "from sklearn.linear_model import LinearRegression  \n",
    "Prod_regressor = LinearRegression()  \n",
    "Prod_regressor.fit(PX_train, Py_train)"
   ]
  },
  {
   "cell_type": "code",
   "execution_count": 66,
   "metadata": {},
   "outputs": [
    {
     "name": "stdout",
     "output_type": "stream",
     "text": [
      "[28.12742804]\n"
     ]
    }
   ],
   "source": [
    "print(Prod_regressor.intercept_)"
   ]
  },
  {
   "cell_type": "code",
   "execution_count": 67,
   "metadata": {},
   "outputs": [
    {
     "name": "stdout",
     "output_type": "stream",
     "text": [
      "[[-1.46594447  2.99672755  0.09598338  8.9438607   2.19869534 -2.19869534]]\n"
     ]
    }
   ],
   "source": [
    "print(Prod_regressor.coef_)"
   ]
  },
  {
   "cell_type": "code",
   "execution_count": 68,
   "metadata": {},
   "outputs": [],
   "source": [
    "Py_pred = Prod_regressor.predict(PX_test)"
   ]
  },
  {
   "cell_type": "code",
   "execution_count": 69,
   "metadata": {},
   "outputs": [
    {
     "name": "stdout",
     "output_type": "stream",
     "text": [
      "Coefficients: \n",
      " [[-1.46594447  2.99672755  0.09598338  8.9438607   2.19869534 -2.19869534]]\n",
      "Mean squared error: 510.79\n",
      "Variance score: 0.18\n"
     ]
    }
   ],
   "source": [
    "from sklearn.metrics import mean_squared_error, r2_score\n",
    "\n",
    "# Print the coefficients\n",
    "print('Coefficients: \\n', Prod_regressor.coef_)\n",
    "# Report the mean squared error\n",
    "print(\"Mean squared error: %.2f\"\n",
    "      % mean_squared_error(Py_test, Py_pred))\n",
    "# Explained variance score: 1 => perfect prediction\n",
    "print('Variance score: %.2f' % r2_score(Py_test, Py_pred))"
   ]
  },
  {
   "cell_type": "markdown",
   "metadata": {},
   "source": [
    "Note the ordering of the coefficients...\n",
    "\n",
    "Better models will have lower \"Mean Square Error\".\n",
    "\n",
    "Variance Score is the same as R-Squared - the proportion of variation in the Outcome Variable Explained by the Proportion of Variation in the Independent Variables"
   ]
  },
  {
   "cell_type": "markdown",
   "metadata": {},
   "source": [
    "## Time to market Model - Linear OLS model - Prediction procedure"
   ]
  },
  {
   "cell_type": "code",
   "execution_count": 43,
   "metadata": {},
   "outputs": [],
   "source": [
    "TX_train, TX_test, Ty_train, Ty_test = train_test_split(Time_to_Market_DataX, Time_to_Market_DataY, test_size=0.4, random_state=0)  "
   ]
  },
  {
   "cell_type": "code",
   "execution_count": 44,
   "metadata": {},
   "outputs": [
    {
     "data": {
      "text/plain": [
       "LinearRegression()"
      ]
     },
     "execution_count": 44,
     "metadata": {},
     "output_type": "execute_result"
    }
   ],
   "source": [
    "TimeMkt_regressor = LinearRegression()  \n",
    "TimeMkt_regressor.fit(TX_train, Ty_train)"
   ]
  },
  {
   "cell_type": "code",
   "execution_count": 45,
   "metadata": {},
   "outputs": [
    {
     "name": "stdout",
     "output_type": "stream",
     "text": [
      "[3.4366187]\n",
      "[[ 0.20200622 -0.67246946  0.48555138 -0.27873236  0.43755429 -0.43755429]]\n"
     ]
    }
   ],
   "source": [
    "print(TimeMkt_regressor.intercept_)\n",
    "print(TimeMkt_regressor.coef_)\n",
    "Ty_pred = TimeMkt_regressor.predict(TX_test)"
   ]
  },
  {
   "cell_type": "markdown",
   "metadata": {},
   "source": [
    "Go back to the Dataset creation steps to map the corresponding coefficient to the corresponding column"
   ]
  },
  {
   "cell_type": "code",
   "execution_count": 46,
   "metadata": {},
   "outputs": [
    {
     "name": "stdout",
     "output_type": "stream",
     "text": [
      "Coefficients: \n",
      " [[ 0.20200622 -0.67246946  0.48555138 -0.27873236  0.43755429 -0.43755429]]\n",
      "Mean squared error: 4.53\n",
      "Variance score: 0.19\n"
     ]
    }
   ],
   "source": [
    "# Print the coefficients\n",
    "print('Coefficients: \\n', TimeMkt_regressor.coef_)\n",
    "# Report the mean squared error\n",
    "print(\"Mean squared error: %.2f\"\n",
    "      % mean_squared_error(Ty_test, Ty_pred))\n",
    "# Explained variance score: 1 => perfect prediction\n",
    "print('Variance score: %.2f' % r2_score(Ty_test, Ty_pred))"
   ]
  },
  {
   "cell_type": "code",
   "execution_count": null,
   "metadata": {},
   "outputs": [],
   "source": []
  }
 ],
 "metadata": {
  "kernelspec": {
   "display_name": "Python 3 (ipykernel)",
   "language": "python",
   "name": "python3"
  },
  "language_info": {
   "codemirror_mode": {
    "name": "ipython",
    "version": 3
   },
   "file_extension": ".py",
   "mimetype": "text/x-python",
   "name": "python",
   "nbconvert_exporter": "python",
   "pygments_lexer": "ipython3",
   "version": "3.9.7"
  }
 },
 "nbformat": 4,
 "nbformat_minor": 2
}
